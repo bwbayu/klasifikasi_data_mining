{
 "cells": [
  {
   "cell_type": "markdown",
   "id": "fe060387",
   "metadata": {},
   "source": [
    "## Praproses data test dan prediksi"
   ]
  },
  {
   "cell_type": "markdown",
   "id": "6981610c",
   "metadata": {},
   "source": [
    "### Import Library"
   ]
  },
  {
   "cell_type": "code",
   "execution_count": 65,
   "id": "7d2bf3bd",
   "metadata": {},
   "outputs": [],
   "source": [
    "%matplotlib inline\n",
    "import numpy as np\n",
    "import pandas as pd\n",
    "import matplotlib.pyplot as plt\n",
    "import seaborn as sns\n",
    "from datetime import datetime, date"
   ]
  },
  {
   "cell_type": "markdown",
   "id": "5c1db24b",
   "metadata": {},
   "source": [
    "### Read Files"
   ]
  },
  {
   "cell_type": "code",
   "execution_count": 66,
   "id": "994686bf",
   "metadata": {},
   "outputs": [
    {
     "data": {
      "text/html": [
       "<div>\n",
       "<style scoped>\n",
       "    .dataframe tbody tr th:only-of-type {\n",
       "        vertical-align: middle;\n",
       "    }\n",
       "\n",
       "    .dataframe tbody tr th {\n",
       "        vertical-align: top;\n",
       "    }\n",
       "\n",
       "    .dataframe thead th {\n",
       "        text-align: right;\n",
       "    }\n",
       "</style>\n",
       "<table border=\"1\" class=\"dataframe\">\n",
       "  <thead>\n",
       "    <tr style=\"text-align: right;\">\n",
       "      <th></th>\n",
       "      <th>orderItemID</th>\n",
       "      <th>orderDate</th>\n",
       "      <th>deliveryDate</th>\n",
       "      <th>itemID</th>\n",
       "      <th>size</th>\n",
       "      <th>color</th>\n",
       "      <th>manufacturerID</th>\n",
       "      <th>price</th>\n",
       "      <th>customerID</th>\n",
       "      <th>salutation</th>\n",
       "      <th>dateOfBirth</th>\n",
       "      <th>state</th>\n",
       "      <th>creationDate</th>\n",
       "    </tr>\n",
       "  </thead>\n",
       "  <tbody>\n",
       "    <tr>\n",
       "      <th>0</th>\n",
       "      <td>1</td>\n",
       "      <td>2013-04-01</td>\n",
       "      <td>2013-04-03</td>\n",
       "      <td>2347</td>\n",
       "      <td>43</td>\n",
       "      <td>magenta</td>\n",
       "      <td>1</td>\n",
       "      <td>89.9</td>\n",
       "      <td>12489</td>\n",
       "      <td>Mrs</td>\n",
       "      <td>1963-04-26</td>\n",
       "      <td>Hesse</td>\n",
       "      <td>2012-04-23</td>\n",
       "    </tr>\n",
       "    <tr>\n",
       "      <th>1</th>\n",
       "      <td>2</td>\n",
       "      <td>2013-04-01</td>\n",
       "      <td>2013-04-03</td>\n",
       "      <td>2741</td>\n",
       "      <td>43</td>\n",
       "      <td>grey</td>\n",
       "      <td>1</td>\n",
       "      <td>99.9</td>\n",
       "      <td>12489</td>\n",
       "      <td>Mrs</td>\n",
       "      <td>1963-04-26</td>\n",
       "      <td>Hesse</td>\n",
       "      <td>2012-04-23</td>\n",
       "    </tr>\n",
       "    <tr>\n",
       "      <th>2</th>\n",
       "      <td>3</td>\n",
       "      <td>2013-04-01</td>\n",
       "      <td>2013-04-03</td>\n",
       "      <td>2514</td>\n",
       "      <td>9</td>\n",
       "      <td>ecru</td>\n",
       "      <td>19</td>\n",
       "      <td>79.9</td>\n",
       "      <td>12489</td>\n",
       "      <td>Mrs</td>\n",
       "      <td>1963-04-26</td>\n",
       "      <td>Hesse</td>\n",
       "      <td>2012-04-23</td>\n",
       "    </tr>\n",
       "    <tr>\n",
       "      <th>3</th>\n",
       "      <td>4</td>\n",
       "      <td>2013-04-01</td>\n",
       "      <td>2013-05-06</td>\n",
       "      <td>2347</td>\n",
       "      <td>42</td>\n",
       "      <td>brown</td>\n",
       "      <td>1</td>\n",
       "      <td>89.9</td>\n",
       "      <td>12489</td>\n",
       "      <td>Mrs</td>\n",
       "      <td>1963-04-26</td>\n",
       "      <td>Hesse</td>\n",
       "      <td>2012-04-23</td>\n",
       "    </tr>\n",
       "    <tr>\n",
       "      <th>4</th>\n",
       "      <td>5</td>\n",
       "      <td>2013-04-01</td>\n",
       "      <td>NaN</td>\n",
       "      <td>2690</td>\n",
       "      <td>43</td>\n",
       "      <td>grey</td>\n",
       "      <td>1</td>\n",
       "      <td>119.9</td>\n",
       "      <td>12489</td>\n",
       "      <td>Mrs</td>\n",
       "      <td>1963-04-26</td>\n",
       "      <td>Hesse</td>\n",
       "      <td>2012-04-23</td>\n",
       "    </tr>\n",
       "  </tbody>\n",
       "</table>\n",
       "</div>"
      ],
      "text/plain": [
       "   orderItemID   orderDate deliveryDate  itemID size    color  manufacturerID  \\\n",
       "0            1  2013-04-01   2013-04-03    2347   43  magenta               1   \n",
       "1            2  2013-04-01   2013-04-03    2741   43     grey               1   \n",
       "2            3  2013-04-01   2013-04-03    2514    9     ecru              19   \n",
       "3            4  2013-04-01   2013-05-06    2347   42    brown               1   \n",
       "4            5  2013-04-01          NaN    2690   43     grey               1   \n",
       "\n",
       "   price  customerID salutation dateOfBirth  state creationDate  \n",
       "0   89.9       12489        Mrs  1963-04-26  Hesse   2012-04-23  \n",
       "1   99.9       12489        Mrs  1963-04-26  Hesse   2012-04-23  \n",
       "2   79.9       12489        Mrs  1963-04-26  Hesse   2012-04-23  \n",
       "3   89.9       12489        Mrs  1963-04-26  Hesse   2012-04-23  \n",
       "4  119.9       12489        Mrs  1963-04-26  Hesse   2012-04-23  "
      ]
     },
     "execution_count": 66,
     "metadata": {},
     "output_type": "execute_result"
    }
   ],
   "source": [
    "df = pd.read_table(\"C://Users//Byebay//Documents//College//Data Mining//tugas//klasifikasi//dataset//orders_class.txt\", delimiter=\";\", na_values = '?')\n",
    "df.head(5)"
   ]
  },
  {
   "cell_type": "code",
   "execution_count": 67,
   "id": "7edf9f93",
   "metadata": {},
   "outputs": [
    {
     "name": "stdout",
     "output_type": "stream",
     "text": [
      "<class 'pandas.core.frame.DataFrame'>\n",
      "RangeIndex: 50078 entries, 0 to 50077\n",
      "Data columns (total 13 columns):\n",
      " #   Column          Non-Null Count  Dtype  \n",
      "---  ------          --------------  -----  \n",
      " 0   orderItemID     50078 non-null  int64  \n",
      " 1   orderDate       50078 non-null  object \n",
      " 2   deliveryDate    45810 non-null  object \n",
      " 3   itemID          50078 non-null  int64  \n",
      " 4   size            50078 non-null  object \n",
      " 5   color           50078 non-null  object \n",
      " 6   manufacturerID  50078 non-null  int64  \n",
      " 7   price           50078 non-null  float64\n",
      " 8   customerID      50078 non-null  int64  \n",
      " 9   salutation      50078 non-null  object \n",
      " 10  dateOfBirth     44909 non-null  object \n",
      " 11  state           50078 non-null  object \n",
      " 12  creationDate    50078 non-null  object \n",
      "dtypes: float64(1), int64(4), object(8)\n",
      "memory usage: 5.0+ MB\n"
     ]
    }
   ],
   "source": [
    "df.info()"
   ]
  },
  {
   "cell_type": "markdown",
   "id": "10234f52",
   "metadata": {},
   "source": [
    "### Mengubah datatype orderdate, deliverydate, dateofBirth, creationDate dari object menjadi datetime"
   ]
  },
  {
   "cell_type": "code",
   "execution_count": 68,
   "id": "42f72a4c",
   "metadata": {},
   "outputs": [],
   "source": [
    "df['orderDate'] = pd.to_datetime(df['orderDate'], format=\"%Y-%m-%d\")\n",
    "df['creationDate'] = pd.to_datetime(df['creationDate'], format=\"%Y-%m-%d\")\n",
    "df['deliveryDate'] = pd.to_datetime(df['deliveryDate'], format=\"%Y-%m-%d\", errors='coerce')\n",
    "df['dateOfBirth'] = pd.to_datetime(df['dateOfBirth'], format=\"%Y-%m-%d\", errors='coerce')"
   ]
  },
  {
   "cell_type": "markdown",
   "id": "464af695",
   "metadata": {},
   "source": [
    "### Melihat data NULL pada setiap atribut"
   ]
  },
  {
   "cell_type": "code",
   "execution_count": 69,
   "id": "8efd956b",
   "metadata": {},
   "outputs": [
    {
     "data": {
      "text/plain": [
       "orderItemID          0\n",
       "orderDate            0\n",
       "deliveryDate      4268\n",
       "itemID               0\n",
       "size                 0\n",
       "color                0\n",
       "manufacturerID       0\n",
       "price                0\n",
       "customerID           0\n",
       "salutation           0\n",
       "dateOfBirth       5169\n",
       "state                0\n",
       "creationDate         0\n",
       "dtype: int64"
      ]
     },
     "execution_count": 69,
     "metadata": {},
     "output_type": "execute_result"
    }
   ],
   "source": [
    "df.isna().sum()"
   ]
  },
  {
   "cell_type": "markdown",
   "id": "ffd0f9b8",
   "metadata": {},
   "source": [
    "### Melihat jumlah setiap value pada atribut Size"
   ]
  },
  {
   "cell_type": "code",
   "execution_count": 70,
   "id": "1b058b3c",
   "metadata": {},
   "outputs": [
    {
     "data": {
      "text/plain": [
       "L          6823\n",
       "XL         6042\n",
       "M          5479\n",
       "XXL        4615\n",
       "40         3386\n",
       "39         3175\n",
       "unsized    2405\n",
       "38         2346\n",
       "S          2038\n",
       "41         1993\n",
       "Name: size, dtype: int64"
      ]
     },
     "execution_count": 70,
     "metadata": {},
     "output_type": "execute_result"
    }
   ],
   "source": [
    "df['size'].value_counts().head(10)"
   ]
  },
  {
   "cell_type": "markdown",
   "id": "49fb6b3e",
   "metadata": {},
   "source": [
    "### Melihat jumlah setiap value pada atribut Color"
   ]
  },
  {
   "cell_type": "code",
   "execution_count": 71,
   "id": "1d1ed214",
   "metadata": {},
   "outputs": [
    {
     "data": {
      "text/plain": [
       "blau        74\n",
       "hibiscus    58\n",
       "curry       51\n",
       "mint        51\n",
       "jade        44\n",
       "ash         38\n",
       "ancient     30\n",
       "silver      29\n",
       "darkblue    26\n",
       "bordeaux    17\n",
       "Name: color, dtype: int64"
      ]
     },
     "execution_count": 71,
     "metadata": {},
     "output_type": "execute_result"
    }
   ],
   "source": [
    "color = df['color'].value_counts()\n",
    "color[40:50]"
   ]
  },
  {
   "cell_type": "markdown",
   "id": "b0350144",
   "metadata": {},
   "source": [
    "### Mengelompokkan atribut color menjadi warna dasar"
   ]
  },
  {
   "cell_type": "code",
   "execution_count": 72,
   "id": "18d48b38",
   "metadata": {},
   "outputs": [],
   "source": [
    "df['color'] = df['color'].replace(['amethyst'], 'purple')\n",
    "df['color'] = df['color'].replace(['almond'], 'brown')\n",
    "df['color'] = df['color'].replace(['ancient'], 'brown')\n",
    "df['color'] = df['color'].replace(['anthracite'], 'grey')\n",
    "df['color'] = df['color'].replace(['antique pink'], 'pink')\n",
    "df['color'] = df['color'].replace(['apricot'], 'orange')\n",
    "df['color'] = df['color'].replace(['aqua'], 'blue')\n",
    "df['color'] = df['color'].replace(['aquamarine'], 'blue')\n",
    "df['color'] = df['color'].replace(['ash'], 'grey')\n",
    "df['color'] = df['color'].replace(['aubergine'], 'purple')\n",
    "df['color'] = df['color'].replace(['aviator'], 'grey')\n",
    "df['color'] = df['color'].replace(['avocado'], 'green')\n",
    "df['color'] = df['color'].replace(['azure'], 'blue')\n",
    "df['color'] = df['color'].replace(['baltic blue'], 'blue')\n",
    "df['color'] = df['color'].replace(['basalt'], 'grey')\n",
    "df['color'] = df['color'].replace(['beige'], 'yellow')\n",
    "df['color'] = df['color'].replace(['berry'], 'red')\n",
    "df['color'] = df['color'].replace(['bordeaux'], 'red')\n",
    "df['color'] = df['color'].replace(['caramel'], 'brown')\n",
    "df['color'] = df['color'].replace(['bronze'], 'brown')\n",
    "df['color'] = df['color'].replace(['champagner'], 'yellow')\n",
    "df['color'] = df['color'].replace(['cognac'], 'red')\n",
    "df['color'] = df['color'].replace(['copper coin'], 'brown')\n",
    "df['color'] = df['color'].replace(['coral'], 'orange')\n",
    "df['color'] = df['color'].replace(['cortina mocca'], 'brown')\n",
    "df['color'] = df['color'].replace(['creme'], 'brown')\n",
    "df['color'] = df['color'].replace(['crimson'], 'red')\n",
    "df['color'] = df['color'].replace(['curled'], 'brown')\n",
    "df['color'] = df['color'].replace(['currant purple'], 'purple')\n",
    "df['color'] = df['color'].replace(['curry'], 'yellow')\n",
    "df['color'] = df['color'].replace(['dark denim'], 'blue')\n",
    "df['color'] = df['color'].replace(['dark garnet'], 'purple')\n",
    "df['color'] = df['color'].replace(['dark grey'], 'grey')\n",
    "df['color'] = df['color'].replace(['dark navy'], 'blue')\n",
    "df['color'] = df['color'].replace(['dark oliv'], 'green')\n",
    "df['color'] = df['color'].replace(['darkblue'], 'blue')\n",
    "df['color'] = df['color'].replace(['denim'], 'blue')\n",
    "df['color'] = df['color'].replace(['ebony'], 'brown')\n",
    "df['color'] = df['color'].replace(['ecru'], 'brown')\n",
    "df['color'] = df['color'].replace(['floral'], 'red')\n",
    "df['color'] = df['color'].replace(['fuchsia'], 'purple')\n",
    "df['color'] = df['color'].replace(['gold'], 'yellow')\n",
    "df['color'] = df['color'].replace(['graphite'], 'grey')\n",
    "df['color'] = df['color'].replace(['habana'], 'brown')\n",
    "df['color'] = df['color'].replace(['hibiscus'], 'red')\n",
    "df['color'] = df['color'].replace(['ingwer'], 'yellow')\n",
    "df['color'] = df['color'].replace(['iron'], 'grey')\n",
    "df['color'] = df['color'].replace(['ivory'], 'yellow')\n",
    "df['color'] = df['color'].replace(['jade'], 'green')\n",
    "df['color'] = df['color'].replace(['kanel'], 'brown')\n",
    "df['color'] = df['color'].replace(['khaki'], 'brown')\n",
    "df['color'] = df['color'].replace(['lemon'], 'yellow')\n",
    "df['color'] = df['color'].replace(['leopard'], 'orange')\n",
    "df['color'] = df['color'].replace(['magenta'], 'purple')\n",
    "df['color'] = df['color'].replace(['mango'], 'orange')\n",
    "df['color'] = df['color'].replace(['mint'], 'green')\n",
    "df['color'] = df['color'].replace(['mocca'], 'brown')\n",
    "df['color'] = df['color'].replace(['nature'], 'green')\n",
    "df['color'] = df['color'].replace(['navy'], 'blue')\n",
    "df['color'] = df['color'].replace(['ocher'], 'brown')\n",
    "df['color'] = df['color'].replace(['oliv'], 'green')\n",
    "df['color'] = df['color'].replace(['olive'], 'green')\n",
    "df['color'] = df['color'].replace(['opal'], 'blue')\n",
    "df['color'] = df['color'].replace(['pallid'], 'green')\n",
    "df['color'] = df['color'].replace(['perlmutt'], 'blue')\n",
    "df['color'] = df['color'].replace(['petrol'], 'blue')\n",
    "df['color'] = df['color'].replace(['silver'], 'grey')\n",
    "df['color'] = df['color'].replace(['stained'], 'grey')\n",
    "df['color'] = df['color'].replace(['striped'], 'black')\n",
    "df['color'] = df['color'].replace(['terracotta'], 'brown')\n",
    "df['color'] = df['color'].replace(['turquoise'], 'green')\n",
    "df['color'] = df['color'].replace(['vanille'], 'white')\n",
    "df['color'] = df['color'].replace(['cobalt blue'], 'blue')\n",
    "df['color'] = df['color'].replace(['mahagoni'], 'brown')\n",
    "df['color'] = df['color'].replace(['color_amethyst'], 'purple')\n",
    "df['color'] = df['color'].replace(['color_aviator'], 'grey')\n",
    "df['color'] = df['color'].replace(['color_avocado'], 'green')\n",
    "df['color'] = df['color'].replace(['color_bronze'], 'brown')\n",
    "df['color'] = df['color'].replace(['color_caramel'], 'brown')\n",
    "df['color'] = df['color'].replace(['color_champagner'], 'yellow')\n",
    "df['color'] = df['color'].replace(['color_cobalt blue'], 'blue')\n",
    "df['color'] = df['color'].replace(['color_copper coin'], 'brown')\n",
    "df['color'] = df['color'].replace(['olor_cortina mocca'], 'brown')\n",
    "df['color'] = df['color'].replace(['olor_creme'], 'brown')\n",
    "df['color'] = df['color'].replace(['color_curled'], 'red')\n",
    "df['color'] = df['color'].replace(['color_currant purple'], 'purple')\n",
    "df['color'] = df['color'].replace(['color_dark garnet'], 'red')\n",
    "df['color'] = df['color'].replace(['color_dark grey'], 'grey')\n",
    "df['color'] = df['color'].replace(['color_ebony'], 'black')\n",
    "df['color'] = df['color'].replace(['color_ivory'], 'black')\n",
    "df['color'] = df['color'].replace(['color_mango'], 'yellow')\n",
    "df['color'] = df['color'].replace(['color_opal'], 'blue')\n",
    "df['color'] = df['color'].replace(['color_perlmutt'], 'green')\n",
    "df['color'] = df['color'].replace(['color_vanille'], 'white')"
   ]
  },
  {
   "cell_type": "code",
   "execution_count": 73,
   "id": "a25a4b96",
   "metadata": {},
   "outputs": [
    {
     "data": {
      "text/html": [
       "<div>\n",
       "<style scoped>\n",
       "    .dataframe tbody tr th:only-of-type {\n",
       "        vertical-align: middle;\n",
       "    }\n",
       "\n",
       "    .dataframe tbody tr th {\n",
       "        vertical-align: top;\n",
       "    }\n",
       "\n",
       "    .dataframe thead th {\n",
       "        text-align: right;\n",
       "    }\n",
       "</style>\n",
       "<table border=\"1\" class=\"dataframe\">\n",
       "  <thead>\n",
       "    <tr style=\"text-align: right;\">\n",
       "      <th></th>\n",
       "      <th>orderItemID</th>\n",
       "      <th>orderDate</th>\n",
       "      <th>deliveryDate</th>\n",
       "      <th>itemID</th>\n",
       "      <th>size</th>\n",
       "      <th>color</th>\n",
       "      <th>manufacturerID</th>\n",
       "      <th>price</th>\n",
       "      <th>customerID</th>\n",
       "      <th>salutation</th>\n",
       "      <th>dateOfBirth</th>\n",
       "      <th>state</th>\n",
       "      <th>creationDate</th>\n",
       "    </tr>\n",
       "  </thead>\n",
       "  <tbody>\n",
       "    <tr>\n",
       "      <th>152</th>\n",
       "      <td>153</td>\n",
       "      <td>2013-04-01</td>\n",
       "      <td>2013-04-04</td>\n",
       "      <td>2401</td>\n",
       "      <td>M</td>\n",
       "      <td>blau</td>\n",
       "      <td>20</td>\n",
       "      <td>59.9</td>\n",
       "      <td>86561</td>\n",
       "      <td>Mrs</td>\n",
       "      <td>NaT</td>\n",
       "      <td>Hamburg</td>\n",
       "      <td>2013-04-01</td>\n",
       "    </tr>\n",
       "    <tr>\n",
       "      <th>538</th>\n",
       "      <td>539</td>\n",
       "      <td>2013-04-01</td>\n",
       "      <td>2013-04-22</td>\n",
       "      <td>2401</td>\n",
       "      <td>S</td>\n",
       "      <td>blau</td>\n",
       "      <td>20</td>\n",
       "      <td>59.9</td>\n",
       "      <td>54615</td>\n",
       "      <td>Mrs</td>\n",
       "      <td>1967-04-15</td>\n",
       "      <td>Bavaria</td>\n",
       "      <td>2012-10-03</td>\n",
       "    </tr>\n",
       "    <tr>\n",
       "      <th>2679</th>\n",
       "      <td>2680</td>\n",
       "      <td>2013-04-02</td>\n",
       "      <td>2013-04-22</td>\n",
       "      <td>2401</td>\n",
       "      <td>XL</td>\n",
       "      <td>blau</td>\n",
       "      <td>20</td>\n",
       "      <td>59.9</td>\n",
       "      <td>6182</td>\n",
       "      <td>Mrs</td>\n",
       "      <td>1956-02-09</td>\n",
       "      <td>Bremen</td>\n",
       "      <td>2011-02-16</td>\n",
       "    </tr>\n",
       "    <tr>\n",
       "      <th>3517</th>\n",
       "      <td>3518</td>\n",
       "      <td>2013-04-03</td>\n",
       "      <td>2013-05-28</td>\n",
       "      <td>2401</td>\n",
       "      <td>L</td>\n",
       "      <td>blau</td>\n",
       "      <td>20</td>\n",
       "      <td>59.9</td>\n",
       "      <td>44746</td>\n",
       "      <td>Mrs</td>\n",
       "      <td>1965-01-26</td>\n",
       "      <td>Baden-Wuerttemberg</td>\n",
       "      <td>2012-09-13</td>\n",
       "    </tr>\n",
       "    <tr>\n",
       "      <th>5683</th>\n",
       "      <td>5684</td>\n",
       "      <td>2013-04-04</td>\n",
       "      <td>2013-04-10</td>\n",
       "      <td>2401</td>\n",
       "      <td>XL</td>\n",
       "      <td>blau</td>\n",
       "      <td>20</td>\n",
       "      <td>59.9</td>\n",
       "      <td>50017</td>\n",
       "      <td>Mrs</td>\n",
       "      <td>1969-09-24</td>\n",
       "      <td>North Rhine-Westphalia</td>\n",
       "      <td>2012-09-15</td>\n",
       "    </tr>\n",
       "  </tbody>\n",
       "</table>\n",
       "</div>"
      ],
      "text/plain": [
       "      orderItemID  orderDate deliveryDate  itemID size color  manufacturerID  \\\n",
       "152           153 2013-04-01   2013-04-04    2401    M  blau              20   \n",
       "538           539 2013-04-01   2013-04-22    2401    S  blau              20   \n",
       "2679         2680 2013-04-02   2013-04-22    2401   XL  blau              20   \n",
       "3517         3518 2013-04-03   2013-05-28    2401    L  blau              20   \n",
       "5683         5684 2013-04-04   2013-04-10    2401   XL  blau              20   \n",
       "\n",
       "      price  customerID salutation dateOfBirth                   state  \\\n",
       "152    59.9       86561        Mrs         NaT                 Hamburg   \n",
       "538    59.9       54615        Mrs  1967-04-15                 Bavaria   \n",
       "2679   59.9        6182        Mrs  1956-02-09                  Bremen   \n",
       "3517   59.9       44746        Mrs  1965-01-26      Baden-Wuerttemberg   \n",
       "5683   59.9       50017        Mrs  1969-09-24  North Rhine-Westphalia   \n",
       "\n",
       "     creationDate  \n",
       "152    2013-04-01  \n",
       "538    2012-10-03  \n",
       "2679   2011-02-16  \n",
       "3517   2012-09-13  \n",
       "5683   2012-09-15  "
      ]
     },
     "execution_count": 73,
     "metadata": {},
     "output_type": "execute_result"
    }
   ],
   "source": [
    "# blau adalah bahasa jerman dari blue\n",
    "df[df['color'] == 'blau'].head()"
   ]
  },
  {
   "cell_type": "code",
   "execution_count": 74,
   "id": "2fbe351b",
   "metadata": {},
   "outputs": [],
   "source": [
    "# mengubah data blau pada atribut color\n",
    "df.color = np.where(df.color == 'blau', 'blue', df.color)"
   ]
  },
  {
   "cell_type": "markdown",
   "id": "9bb701ff",
   "metadata": {},
   "source": [
    "### melihat data pada atribut dateOfBirth yang null berdasarkan atribut salutation"
   ]
  },
  {
   "cell_type": "code",
   "execution_count": 75,
   "id": "08fa3a3c",
   "metadata": {},
   "outputs": [
    {
     "data": {
      "text/plain": [
       "Company       1\n",
       "Family       11\n",
       "Mr          237\n",
       "Mrs        4920\n",
       "Name: salutation, dtype: int64"
      ]
     },
     "execution_count": 75,
     "metadata": {},
     "output_type": "execute_result"
    }
   ],
   "source": [
    "df.loc[df['dateOfBirth'].isna()].salutation.value_counts(dropna=False).sort_index()"
   ]
  },
  {
   "cell_type": "markdown",
   "id": "d1d92b6e",
   "metadata": {},
   "source": [
    "### Membuat atribut umur (age)"
   ]
  },
  {
   "cell_type": "code",
   "execution_count": 76,
   "id": "e68cfcb9",
   "metadata": {},
   "outputs": [],
   "source": [
    "# tahun sekarang dikurangi tahun pada atribut dateOfBirth\n",
    "now = pd.Timestamp('now')\n",
    "df['dateOfBirth'] = df['dateOfBirth'].where(df['dateOfBirth'] < now, df['dateOfBirth'] -  np.timedelta64(100, 'Y'))\n",
    "df['age'] = (now - df['dateOfBirth']).astype('<m8[Y]')"
   ]
  },
  {
   "cell_type": "code",
   "execution_count": 77,
   "id": "07cbf729",
   "metadata": {},
   "outputs": [
    {
     "data": {
      "text/html": [
       "<div>\n",
       "<style scoped>\n",
       "    .dataframe tbody tr th:only-of-type {\n",
       "        vertical-align: middle;\n",
       "    }\n",
       "\n",
       "    .dataframe tbody tr th {\n",
       "        vertical-align: top;\n",
       "    }\n",
       "\n",
       "    .dataframe thead th {\n",
       "        text-align: right;\n",
       "    }\n",
       "</style>\n",
       "<table border=\"1\" class=\"dataframe\">\n",
       "  <thead>\n",
       "    <tr style=\"text-align: right;\">\n",
       "      <th></th>\n",
       "      <th>age</th>\n",
       "    </tr>\n",
       "    <tr>\n",
       "      <th>salutation</th>\n",
       "      <th></th>\n",
       "    </tr>\n",
       "  </thead>\n",
       "  <tbody>\n",
       "    <tr>\n",
       "      <th>Company</th>\n",
       "      <td>67.000000</td>\n",
       "    </tr>\n",
       "    <tr>\n",
       "      <th>Family</th>\n",
       "      <td>51.913580</td>\n",
       "    </tr>\n",
       "    <tr>\n",
       "      <th>Mr</th>\n",
       "      <td>56.859301</td>\n",
       "    </tr>\n",
       "    <tr>\n",
       "      <th>Mrs</th>\n",
       "      <td>57.981575</td>\n",
       "    </tr>\n",
       "    <tr>\n",
       "      <th>not reported</th>\n",
       "      <td>57.937500</td>\n",
       "    </tr>\n",
       "  </tbody>\n",
       "</table>\n",
       "</div>"
      ],
      "text/plain": [
       "                    age\n",
       "salutation             \n",
       "Company       67.000000\n",
       "Family        51.913580\n",
       "Mr            56.859301\n",
       "Mrs           57.981575\n",
       "not reported  57.937500"
      ]
     },
     "execution_count": 77,
     "metadata": {},
     "output_type": "execute_result"
    }
   ],
   "source": [
    "# mencari umur rata-rata berdasarkan atribut salutation\n",
    "df_avg = pd.DataFrame((df.groupby('salutation').mean().age))\n",
    "df_avg"
   ]
  },
  {
   "cell_type": "code",
   "execution_count": 78,
   "id": "24ed3934",
   "metadata": {},
   "outputs": [],
   "source": [
    "# mengisi data pada atribut age dengan rata-rata berdasarkan atribut solutation\n",
    "df['age'].fillna(df.groupby(\"salutation\")['age'].transform(\"mean\"), inplace = True)\n",
    "df['age'] = round(df['age']) # membulatkan data"
   ]
  },
  {
   "cell_type": "markdown",
   "id": "0fc6fe0b",
   "metadata": {},
   "source": [
    "### Membuat atribut delivery_time (lama pengiriman)"
   ]
  },
  {
   "cell_type": "code",
   "execution_count": 79,
   "id": "b0b114ef",
   "metadata": {},
   "outputs": [
    {
     "data": {
      "text/plain": [
       "0     2.0\n",
       "1     2.0\n",
       "2     2.0\n",
       "3    35.0\n",
       "4     NaN\n",
       "5     1.0\n",
       "Name: delivery_time, dtype: float64"
      ]
     },
     "execution_count": 79,
     "metadata": {},
     "output_type": "execute_result"
    }
   ],
   "source": [
    "# Melihat atribut lama pengiriman dengan mengurangi data antara atribut deliveryDate dengan atribut orderDate\n",
    "df['delivery_time'] = (df['deliveryDate'] - df['orderDate']).dt.days\n",
    "df['delivery_time'].head(6)"
   ]
  },
  {
   "cell_type": "code",
   "execution_count": 80,
   "id": "fa863fee",
   "metadata": {},
   "outputs": [
    {
     "data": {
      "text/plain": [
       "540"
      ]
     },
     "execution_count": 80,
     "metadata": {},
     "output_type": "execute_result"
    }
   ],
   "source": [
    "# Melihat jumlah atribut delivery_time yang negatif\n",
    "df[df['delivery_time'] < 0]['delivery_time'].count()"
   ]
  },
  {
   "cell_type": "code",
   "execution_count": 81,
   "id": "b2fce539",
   "metadata": {},
   "outputs": [
    {
     "data": {
      "text/plain": [
       "False    45810\n",
       "True      4268\n",
       "Name: delivery_time, dtype: int64"
      ]
     },
     "execution_count": 81,
     "metadata": {},
     "output_type": "execute_result"
    }
   ],
   "source": [
    "# melihat jumlah data pada atribut delivery_time yang NULL dan tidak NULL\n",
    "df['delivery_time'].isna().value_counts()"
   ]
  },
  {
   "cell_type": "code",
   "execution_count": 82,
   "id": "fa1a9052",
   "metadata": {},
   "outputs": [],
   "source": [
    "# value yang negatif diubah menjadi None\n",
    "df['delivery_time'] = df['delivery_time'].where((df['delivery_time'] >= 0), None)"
   ]
  },
  {
   "cell_type": "code",
   "execution_count": 83,
   "id": "c049da9e",
   "metadata": {},
   "outputs": [
    {
     "data": {
      "text/plain": [
       "0     2.0\n",
       "1     2.0\n",
       "2     2.0\n",
       "3    35.0\n",
       "4     NaN\n",
       "5     1.0\n",
       "Name: delivery_time, dtype: float64"
      ]
     },
     "execution_count": 83,
     "metadata": {},
     "output_type": "execute_result"
    }
   ],
   "source": [
    "# Untuk melihat perubahan data\n",
    "# df['delivery_time'].isna().value_counts()\n",
    "df['delivery_time'].head(6)"
   ]
  },
  {
   "cell_type": "code",
   "execution_count": 84,
   "id": "8c178785",
   "metadata": {},
   "outputs": [],
   "source": [
    "# mencari rata-rata lama pengiriman\n",
    "mean_delivery_time = round(np.mean(df['delivery_time']))\n",
    "# mean_delivery_time"
   ]
  },
  {
   "cell_type": "code",
   "execution_count": 85,
   "id": "438430da",
   "metadata": {},
   "outputs": [
    {
     "data": {
      "text/html": [
       "<div>\n",
       "<style scoped>\n",
       "    .dataframe tbody tr th:only-of-type {\n",
       "        vertical-align: middle;\n",
       "    }\n",
       "\n",
       "    .dataframe tbody tr th {\n",
       "        vertical-align: top;\n",
       "    }\n",
       "\n",
       "    .dataframe thead th {\n",
       "        text-align: right;\n",
       "    }\n",
       "</style>\n",
       "<table border=\"1\" class=\"dataframe\">\n",
       "  <thead>\n",
       "    <tr style=\"text-align: right;\">\n",
       "      <th></th>\n",
       "      <th>orderItemID</th>\n",
       "      <th>orderDate</th>\n",
       "      <th>deliveryDate</th>\n",
       "      <th>itemID</th>\n",
       "      <th>size</th>\n",
       "      <th>color</th>\n",
       "      <th>manufacturerID</th>\n",
       "      <th>price</th>\n",
       "      <th>customerID</th>\n",
       "      <th>salutation</th>\n",
       "      <th>dateOfBirth</th>\n",
       "      <th>state</th>\n",
       "      <th>creationDate</th>\n",
       "      <th>age</th>\n",
       "      <th>delivery_time</th>\n",
       "    </tr>\n",
       "  </thead>\n",
       "  <tbody>\n",
       "    <tr>\n",
       "      <th>0</th>\n",
       "      <td>1</td>\n",
       "      <td>2013-04-01</td>\n",
       "      <td>2013-04-03</td>\n",
       "      <td>2347</td>\n",
       "      <td>43</td>\n",
       "      <td>purple</td>\n",
       "      <td>1</td>\n",
       "      <td>89.9</td>\n",
       "      <td>12489</td>\n",
       "      <td>Mrs</td>\n",
       "      <td>1963-04-26</td>\n",
       "      <td>Hesse</td>\n",
       "      <td>2012-04-23</td>\n",
       "      <td>59.0</td>\n",
       "      <td>2.0</td>\n",
       "    </tr>\n",
       "    <tr>\n",
       "      <th>1</th>\n",
       "      <td>2</td>\n",
       "      <td>2013-04-01</td>\n",
       "      <td>2013-04-03</td>\n",
       "      <td>2741</td>\n",
       "      <td>43</td>\n",
       "      <td>grey</td>\n",
       "      <td>1</td>\n",
       "      <td>99.9</td>\n",
       "      <td>12489</td>\n",
       "      <td>Mrs</td>\n",
       "      <td>1963-04-26</td>\n",
       "      <td>Hesse</td>\n",
       "      <td>2012-04-23</td>\n",
       "      <td>59.0</td>\n",
       "      <td>2.0</td>\n",
       "    </tr>\n",
       "    <tr>\n",
       "      <th>2</th>\n",
       "      <td>3</td>\n",
       "      <td>2013-04-01</td>\n",
       "      <td>2013-04-03</td>\n",
       "      <td>2514</td>\n",
       "      <td>9</td>\n",
       "      <td>brown</td>\n",
       "      <td>19</td>\n",
       "      <td>79.9</td>\n",
       "      <td>12489</td>\n",
       "      <td>Mrs</td>\n",
       "      <td>1963-04-26</td>\n",
       "      <td>Hesse</td>\n",
       "      <td>2012-04-23</td>\n",
       "      <td>59.0</td>\n",
       "      <td>2.0</td>\n",
       "    </tr>\n",
       "    <tr>\n",
       "      <th>3</th>\n",
       "      <td>4</td>\n",
       "      <td>2013-04-01</td>\n",
       "      <td>2013-05-06</td>\n",
       "      <td>2347</td>\n",
       "      <td>42</td>\n",
       "      <td>brown</td>\n",
       "      <td>1</td>\n",
       "      <td>89.9</td>\n",
       "      <td>12489</td>\n",
       "      <td>Mrs</td>\n",
       "      <td>1963-04-26</td>\n",
       "      <td>Hesse</td>\n",
       "      <td>2012-04-23</td>\n",
       "      <td>59.0</td>\n",
       "      <td>35.0</td>\n",
       "    </tr>\n",
       "    <tr>\n",
       "      <th>4</th>\n",
       "      <td>5</td>\n",
       "      <td>2013-04-01</td>\n",
       "      <td>NaT</td>\n",
       "      <td>2690</td>\n",
       "      <td>43</td>\n",
       "      <td>grey</td>\n",
       "      <td>1</td>\n",
       "      <td>119.9</td>\n",
       "      <td>12489</td>\n",
       "      <td>Mrs</td>\n",
       "      <td>1963-04-26</td>\n",
       "      <td>Hesse</td>\n",
       "      <td>2012-04-23</td>\n",
       "      <td>59.0</td>\n",
       "      <td>16.0</td>\n",
       "    </tr>\n",
       "    <tr>\n",
       "      <th>5</th>\n",
       "      <td>6</td>\n",
       "      <td>2013-04-01</td>\n",
       "      <td>2013-04-02</td>\n",
       "      <td>2318</td>\n",
       "      <td>41</td>\n",
       "      <td>blue</td>\n",
       "      <td>1</td>\n",
       "      <td>89.9</td>\n",
       "      <td>3649</td>\n",
       "      <td>Mrs</td>\n",
       "      <td>1956-03-26</td>\n",
       "      <td>Hesse</td>\n",
       "      <td>2013-04-01</td>\n",
       "      <td>66.0</td>\n",
       "      <td>1.0</td>\n",
       "    </tr>\n",
       "  </tbody>\n",
       "</table>\n",
       "</div>"
      ],
      "text/plain": [
       "   orderItemID  orderDate deliveryDate  itemID size   color  manufacturerID  \\\n",
       "0            1 2013-04-01   2013-04-03    2347   43  purple               1   \n",
       "1            2 2013-04-01   2013-04-03    2741   43    grey               1   \n",
       "2            3 2013-04-01   2013-04-03    2514    9   brown              19   \n",
       "3            4 2013-04-01   2013-05-06    2347   42   brown               1   \n",
       "4            5 2013-04-01          NaT    2690   43    grey               1   \n",
       "5            6 2013-04-01   2013-04-02    2318   41    blue               1   \n",
       "\n",
       "   price  customerID salutation dateOfBirth  state creationDate   age  \\\n",
       "0   89.9       12489        Mrs  1963-04-26  Hesse   2012-04-23  59.0   \n",
       "1   99.9       12489        Mrs  1963-04-26  Hesse   2012-04-23  59.0   \n",
       "2   79.9       12489        Mrs  1963-04-26  Hesse   2012-04-23  59.0   \n",
       "3   89.9       12489        Mrs  1963-04-26  Hesse   2012-04-23  59.0   \n",
       "4  119.9       12489        Mrs  1963-04-26  Hesse   2012-04-23  59.0   \n",
       "5   89.9        3649        Mrs  1956-03-26  Hesse   2013-04-01  66.0   \n",
       "\n",
       "   delivery_time  \n",
       "0            2.0  \n",
       "1            2.0  \n",
       "2            2.0  \n",
       "3           35.0  \n",
       "4           16.0  \n",
       "5            1.0  "
      ]
     },
     "execution_count": 85,
     "metadata": {},
     "output_type": "execute_result"
    }
   ],
   "source": [
    "# Mengisi data pada atribut delivery_time dengan menggunakan rata-rata lama pengiriman\n",
    "df.loc[df['delivery_time'].isna(), 'delivery_time'] = mean_delivery_time\n",
    "df.head(6)"
   ]
  },
  {
   "cell_type": "markdown",
   "id": "22de03d9",
   "metadata": {},
   "source": [
    "### Mengubah size menjadi category dengan ukuran S, M, L, XL"
   ]
  },
  {
   "cell_type": "code",
   "execution_count": 86,
   "id": "1304b79e",
   "metadata": {},
   "outputs": [],
   "source": [
    "# menghapus + pada size\n",
    "df[\"size\"] = df[\"size\"].replace({'\\+':''},regex=True)\n",
    "# mengubah data string menjadi upper case\n",
    "df['size'] = df['size'].str.upper()\n",
    "# mengubah representasi dari beberapa data di atribut size agar mudah ketika mengelompokkan\n",
    "df.loc[(df['size'] == 'UNSIZED'), 'size'] = \"0\"\n",
    "df.loc[(df['size'] == 'XS'), 'size'] = \"1\"\n",
    "df.loc[(df['size'] == 'M'), 'size'] = \"36\"\n",
    "df.loc[(df['size'] == 'S'), 'size'] = \"32\"\n",
    "df.loc[(df['size'] == 'L'), 'size'] = \"40\"\n",
    "df.loc[(df['size'] == 'XL'), 'size'] = \"44\"\n",
    "df.loc[(df['size'] == 'XXL'), 'size'] = \"46\"\n",
    "df.loc[(df['size'] == 'XXXL'), 'size'] = \"48\"\n",
    "df.loc[(df['size'] == 'XXXXL'), 'size'] = \"50\"\n",
    "df.loc[(df['size'] == 'XXXXXL'), 'size'] = \"54\"\n",
    "# mengubah tipa data size dari object menjadi int\n",
    "df['size'] = df['size'].astype('int64')"
   ]
  },
  {
   "cell_type": "code",
   "execution_count": 87,
   "id": "b4c5c7eb",
   "metadata": {},
   "outputs": [],
   "source": [
    "# mengelompokkan data pada atribut size\n",
    "# 0 = UNSIZED\n",
    "df.loc[(df['size'] > 70), 'size'] = 0\n",
    "# 1 = XS\n",
    "df.loc[(df['size'] >= 29) & (df['size'] <= 31), 'size'] = 1\n",
    "# 1 = S\n",
    "df.loc[(df['size'] >= 2) & (df['size'] <= 4), 'size'] = 2\n",
    "df.loc[(df['size'] >= 32) & (df['size'] <= 34), 'size'] = 2\n",
    "# 2 = M\n",
    "df.loc[(df['size'] >= 5) & (df['size'] <= 8), 'size'] = 3\n",
    "df.loc[(df['size'] >= 35) & (df['size'] <= 38), 'size'] = 3\n",
    "# 3 = L\n",
    "df.loc[(df['size'] >= 9) & (df['size'] <= 12), 'size'] = 4\n",
    "df.loc[(df['size'] >= 39) & (df['size'] <= 42), 'size'] = 4\n",
    "# 4 = XL\n",
    "df.loc[(df['size'] >= 13) & (df['size'] <= 15), 'size'] = 5\n",
    "df.loc[(df['size'] >= 43) & (df['size'] <= 45), 'size'] = 5\n",
    "# 5 = XXL\n",
    "df.loc[(df['size'] >= 16) & (df['size'] <= 17), 'size'] = 6\n",
    "df.loc[(df['size'] >= 46) & (df['size'] <= 47), 'size'] = 6\n",
    "# 6 = XXX\n",
    "df.loc[(df['size'] >= 18) & (df['size'] <= 19), 'size'] = 7\n",
    "df.loc[(df['size'] >= 48) & (df['size'] <= 49), 'size'] = 7\n",
    "# 7 = XXXXL\n",
    "df.loc[(df['size'] >= 20) & (df['size'] <= 23), 'size'] = 8\n",
    "df.loc[(df['size'] >= 50) & (df['size'] <= 53), 'size'] = 8\n",
    "# 8 = XXXXXL\n",
    "df.loc[(df['size'] >= 24) & (df['size'] <= 28), 'size'] = 9\n",
    "df.loc[(df['size'] >= 54) & (df['size'] <= 58), 'size'] = 9"
   ]
  },
  {
   "cell_type": "code",
   "execution_count": 88,
   "id": "b8363d83",
   "metadata": {},
   "outputs": [],
   "source": [
    "# mengubah kembali data dari numerik menjadi string\n",
    "df.loc[(df['size'] == 0), 'size'] = \"UNSIZED\"\n",
    "df.loc[(df['size'] == 1), 'size'] = \"XS\"\n",
    "df.loc[(df['size'] == 2), 'size'] = \"S\"\n",
    "df.loc[(df['size'] == 3), 'size'] = \"M\"\n",
    "df.loc[(df['size'] == 4), 'size'] = \"L\"\n",
    "df.loc[(df['size'] == 5), 'size'] = \"XL\"\n",
    "df.loc[(df['size'] == 6), 'size'] = \"XXL\"\n",
    "df.loc[(df['size'] == 7), 'size'] = \"XXXL\"\n",
    "df.loc[(df['size'] == 8), 'size'] = \"XXXXL\"\n",
    "df.loc[(df['size'] == 9), 'size'] = \"XXXXXL\""
   ]
  },
  {
   "cell_type": "markdown",
   "id": "04326cf4",
   "metadata": {},
   "source": [
    "### Drop atribut"
   ]
  },
  {
   "cell_type": "code",
   "execution_count": 89,
   "id": "a93b1632",
   "metadata": {},
   "outputs": [],
   "source": [
    "df = df.drop(['orderDate', 'orderItemID', 'dateOfBirth', 'deliveryDate', 'creationDate'], axis =1)"
   ]
  },
  {
   "cell_type": "markdown",
   "id": "6bad8514",
   "metadata": {},
   "source": [
    "### Mengubah datatype atribut size, color, state, salutation menjadi category"
   ]
  },
  {
   "cell_type": "code",
   "execution_count": 90,
   "id": "d7c8ae2f",
   "metadata": {},
   "outputs": [],
   "source": [
    "df['size'] = df['size'].astype('category')\n",
    "df.color = df['color'].astype('category')\n",
    "df.state = df['state'].astype('category')\n",
    "df.salutation = df['salutation'].astype('category')"
   ]
  },
  {
   "cell_type": "markdown",
   "id": "82e2d50a",
   "metadata": {},
   "source": [
    "### Atribut yang datatypenya category diubah menjadi one-hot encoding"
   ]
  },
  {
   "cell_type": "code",
   "execution_count": 91,
   "id": "9a1e2eb4",
   "metadata": {},
   "outputs": [],
   "source": [
    "df = pd.get_dummies(data=df, columns=['salutation','size','color','state'])"
   ]
  },
  {
   "cell_type": "code",
   "execution_count": 92,
   "id": "9370c5c7",
   "metadata": {},
   "outputs": [
    {
     "data": {
      "text/plain": [
       "Index(['itemID', 'manufacturerID', 'price', 'customerID', 'age',\n",
       "       'delivery_time', 'salutation_Company', 'salutation_Family',\n",
       "       'salutation_Mr', 'salutation_Mrs', 'salutation_not reported', 'size_L',\n",
       "       'size_M', 'size_S', 'size_UNSIZED', 'size_XL', 'size_XS', 'size_XXL',\n",
       "       'size_XXXL', 'size_XXXXL', 'size_XXXXXL', 'color_black', 'color_blue',\n",
       "       'color_brown', 'color_green', 'color_grey', 'color_orange',\n",
       "       'color_pink', 'color_purple', 'color_red', 'color_white',\n",
       "       'color_yellow', 'state_Baden-Wuerttemberg', 'state_Bavaria',\n",
       "       'state_Berlin', 'state_Brandenburg', 'state_Bremen', 'state_Hamburg',\n",
       "       'state_Hesse', 'state_Lower Saxony',\n",
       "       'state_Mecklenburg-Western Pomerania', 'state_North Rhine-Westphalia',\n",
       "       'state_Rhineland-Palatinate', 'state_Saarland', 'state_Saxony',\n",
       "       'state_Saxony-Anhalt', 'state_Schleswig-Holstein', 'state_Thuringia'],\n",
       "      dtype='object')"
      ]
     },
     "execution_count": 92,
     "metadata": {},
     "output_type": "execute_result"
    }
   ],
   "source": [
    "df.columns"
   ]
  },
  {
   "cell_type": "code",
   "execution_count": 93,
   "id": "ec12e1f9",
   "metadata": {},
   "outputs": [],
   "source": [
    "import pickle\n",
    "with open('C:\\\\Users\\\\Byebay\\\\data mining\\\\Klasifikasi\\\\hasil1.pickle', 'rb') as fp:\n",
    "     X_train_column = list(pickle.load(fp))\n",
    "df = df[X_train_column]\n",
    "df.columns\n",
    "\n",
    "import joblib\n",
    "clf = joblib.load(\"C:\\\\Users\\\\Byebay\\\\data mining\\\\Klasifikasi\\\\hasil1.joblib\")\n",
    "clf.predict(df)\n",
    "\n",
    "i = 1\n",
    "with open(\"C:\\\\Users\\\\Byebay\\\\data mining\\\\Klasifikasi\\\\orders_class.txt\", \"w\") as o:\n",
    "    print(\"{0};{1}\".format(\"orderItemID\", \"prediction\"), file = o)\n",
    "    for line in clf.predict(df):\n",
    "        print(\"{0};{1}\".format(i, line), file=o)\n",
    "        i+=1\n"
   ]
  },
  {
   "cell_type": "code",
   "execution_count": 94,
   "id": "6f1db201",
   "metadata": {},
   "outputs": [
    {
     "data": {
      "text/plain": [
       "1    30342\n",
       "0    19736\n",
       "Name: prediction, dtype: int64"
      ]
     },
     "execution_count": 94,
     "metadata": {},
     "output_type": "execute_result"
    }
   ],
   "source": [
    "dfhasil = pd.read_table(\"C:\\\\Users\\\\Byebay\\\\data mining\\\\Klasifikasi\\\\orders_class.txt\", delimiter=\";\")\n",
    "dfhasil[\"prediction\"].value_counts()"
   ]
  },
  {
   "cell_type": "code",
   "execution_count": null,
   "id": "1a715b10",
   "metadata": {},
   "outputs": [],
   "source": []
  }
 ],
 "metadata": {
  "kernelspec": {
   "display_name": "Python 3 (ipykernel)",
   "language": "python",
   "name": "python3"
  },
  "language_info": {
   "codemirror_mode": {
    "name": "ipython",
    "version": 3
   },
   "file_extension": ".py",
   "mimetype": "text/x-python",
   "name": "python",
   "nbconvert_exporter": "python",
   "pygments_lexer": "ipython3",
   "version": "3.9.12"
  }
 },
 "nbformat": 4,
 "nbformat_minor": 5
}
