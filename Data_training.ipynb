{
 "cells": [
  {
   "cell_type": "markdown",
   "id": "77452e77",
   "metadata": {},
   "source": [
    "## Kelompok 4\n",
    "1. Ardyn Rezky Fahreza (2103551)\n",
    "2. Muhammad Fikri Kafilli (2107264)\n",
    "3. Bayu Wicaksono (2106836)\n",
    "4. Muhammad Fadlan Ghafur (2106923)\n",
    "5. Talitha Syahla (2101330)"
   ]
  },
  {
   "cell_type": "markdown",
   "id": "99c5fb5d",
   "metadata": {},
   "source": [
    "## Praproses, EDA, analisis Data Training"
   ]
  },
  {
   "cell_type": "markdown",
   "id": "318d01f6",
   "metadata": {},
   "source": [
    "### Import Library"
   ]
  },
  {
   "cell_type": "code",
   "execution_count": 57,
   "id": "b0c5a960",
   "metadata": {},
   "outputs": [],
   "source": [
    "%matplotlib inline\n",
    "import numpy as np\n",
    "import pandas as pd\n",
    "import matplotlib.pyplot as plt\n",
    "import seaborn as sns\n",
    "from datetime import datetime, date"
   ]
  },
  {
   "cell_type": "markdown",
   "id": "61eab7c8",
   "metadata": {},
   "source": [
    "### Read Files"
   ]
  },
  {
   "cell_type": "code",
   "execution_count": 58,
   "id": "55467f79",
   "metadata": {
    "scrolled": true
   },
   "outputs": [
    {
     "data": {
      "text/html": [
       "<div>\n",
       "<style scoped>\n",
       "    .dataframe tbody tr th:only-of-type {\n",
       "        vertical-align: middle;\n",
       "    }\n",
       "\n",
       "    .dataframe tbody tr th {\n",
       "        vertical-align: top;\n",
       "    }\n",
       "\n",
       "    .dataframe thead th {\n",
       "        text-align: right;\n",
       "    }\n",
       "</style>\n",
       "<table border=\"1\" class=\"dataframe\">\n",
       "  <thead>\n",
       "    <tr style=\"text-align: right;\">\n",
       "      <th></th>\n",
       "      <th>orderItemID</th>\n",
       "      <th>orderDate</th>\n",
       "      <th>deliveryDate</th>\n",
       "      <th>itemID</th>\n",
       "      <th>size</th>\n",
       "      <th>color</th>\n",
       "      <th>manufacturerID</th>\n",
       "      <th>price</th>\n",
       "      <th>customerID</th>\n",
       "      <th>salutation</th>\n",
       "      <th>dateOfBirth</th>\n",
       "      <th>state</th>\n",
       "      <th>creationDate</th>\n",
       "      <th>returnShipment</th>\n",
       "    </tr>\n",
       "  </thead>\n",
       "  <tbody>\n",
       "    <tr>\n",
       "      <th>0</th>\n",
       "      <td>1</td>\n",
       "      <td>2012-04-01</td>\n",
       "      <td>2012-04-03</td>\n",
       "      <td>186</td>\n",
       "      <td>m</td>\n",
       "      <td>denim</td>\n",
       "      <td>25</td>\n",
       "      <td>69.90</td>\n",
       "      <td>794</td>\n",
       "      <td>Mrs</td>\n",
       "      <td>1965-01-06</td>\n",
       "      <td>Baden-Wuerttemberg</td>\n",
       "      <td>2011-04-25</td>\n",
       "      <td>0</td>\n",
       "    </tr>\n",
       "    <tr>\n",
       "      <th>1</th>\n",
       "      <td>2</td>\n",
       "      <td>2012-04-01</td>\n",
       "      <td>2012-04-03</td>\n",
       "      <td>71</td>\n",
       "      <td>9+</td>\n",
       "      <td>ocher</td>\n",
       "      <td>21</td>\n",
       "      <td>69.95</td>\n",
       "      <td>794</td>\n",
       "      <td>Mrs</td>\n",
       "      <td>1965-01-06</td>\n",
       "      <td>Baden-Wuerttemberg</td>\n",
       "      <td>2011-04-25</td>\n",
       "      <td>1</td>\n",
       "    </tr>\n",
       "    <tr>\n",
       "      <th>2</th>\n",
       "      <td>3</td>\n",
       "      <td>2012-04-01</td>\n",
       "      <td>2012-04-03</td>\n",
       "      <td>71</td>\n",
       "      <td>9+</td>\n",
       "      <td>curry</td>\n",
       "      <td>21</td>\n",
       "      <td>69.95</td>\n",
       "      <td>794</td>\n",
       "      <td>Mrs</td>\n",
       "      <td>1965-01-06</td>\n",
       "      <td>Baden-Wuerttemberg</td>\n",
       "      <td>2011-04-25</td>\n",
       "      <td>1</td>\n",
       "    </tr>\n",
       "    <tr>\n",
       "      <th>3</th>\n",
       "      <td>4</td>\n",
       "      <td>2012-04-02</td>\n",
       "      <td>NaN</td>\n",
       "      <td>22</td>\n",
       "      <td>m</td>\n",
       "      <td>green</td>\n",
       "      <td>14</td>\n",
       "      <td>39.90</td>\n",
       "      <td>808</td>\n",
       "      <td>Mrs</td>\n",
       "      <td>1959-11-09</td>\n",
       "      <td>Saxony</td>\n",
       "      <td>2012-01-04</td>\n",
       "      <td>0</td>\n",
       "    </tr>\n",
       "    <tr>\n",
       "      <th>4</th>\n",
       "      <td>5</td>\n",
       "      <td>2012-04-02</td>\n",
       "      <td>1990-12-31</td>\n",
       "      <td>151</td>\n",
       "      <td>39</td>\n",
       "      <td>black</td>\n",
       "      <td>53</td>\n",
       "      <td>29.90</td>\n",
       "      <td>825</td>\n",
       "      <td>Mrs</td>\n",
       "      <td>1964-07-11</td>\n",
       "      <td>Rhineland-Palatinate</td>\n",
       "      <td>2011-02-16</td>\n",
       "      <td>0</td>\n",
       "    </tr>\n",
       "  </tbody>\n",
       "</table>\n",
       "</div>"
      ],
      "text/plain": [
       "   orderItemID   orderDate deliveryDate  itemID size  color  manufacturerID  \\\n",
       "0            1  2012-04-01   2012-04-03     186    m  denim              25   \n",
       "1            2  2012-04-01   2012-04-03      71   9+  ocher              21   \n",
       "2            3  2012-04-01   2012-04-03      71   9+  curry              21   \n",
       "3            4  2012-04-02          NaN      22    m  green              14   \n",
       "4            5  2012-04-02   1990-12-31     151   39  black              53   \n",
       "\n",
       "   price  customerID salutation dateOfBirth                 state  \\\n",
       "0  69.90         794        Mrs  1965-01-06    Baden-Wuerttemberg   \n",
       "1  69.95         794        Mrs  1965-01-06    Baden-Wuerttemberg   \n",
       "2  69.95         794        Mrs  1965-01-06    Baden-Wuerttemberg   \n",
       "3  39.90         808        Mrs  1959-11-09                Saxony   \n",
       "4  29.90         825        Mrs  1964-07-11  Rhineland-Palatinate   \n",
       "\n",
       "  creationDate  returnShipment  \n",
       "0   2011-04-25               0  \n",
       "1   2011-04-25               1  \n",
       "2   2011-04-25               1  \n",
       "3   2012-01-04               0  \n",
       "4   2011-02-16               0  "
      ]
     },
     "execution_count": 58,
     "metadata": {},
     "output_type": "execute_result"
    }
   ],
   "source": [
    "df_train = pd.read_table(\"C://Users//Byebay//Documents//College//Data Mining//tugas//klasifikasi//dataset//orders_train.txt\", delimiter=\";\", na_values = '?')\n",
    "df_train.head(5)"
   ]
  },
  {
   "cell_type": "code",
   "execution_count": 59,
   "id": "5bb12647",
   "metadata": {},
   "outputs": [
    {
     "name": "stdout",
     "output_type": "stream",
     "text": [
      "<class 'pandas.core.frame.DataFrame'>\n",
      "RangeIndex: 481092 entries, 0 to 481091\n",
      "Data columns (total 14 columns):\n",
      " #   Column          Non-Null Count   Dtype  \n",
      "---  ------          --------------   -----  \n",
      " 0   orderItemID     481092 non-null  int64  \n",
      " 1   orderDate       481092 non-null  object \n",
      " 2   deliveryDate    441673 non-null  object \n",
      " 3   itemID          481092 non-null  int64  \n",
      " 4   size            481092 non-null  object \n",
      " 5   color           480949 non-null  object \n",
      " 6   manufacturerID  481092 non-null  int64  \n",
      " 7   price           481092 non-null  float64\n",
      " 8   customerID      481092 non-null  int64  \n",
      " 9   salutation      481092 non-null  object \n",
      " 10  dateOfBirth     432203 non-null  object \n",
      " 11  state           481092 non-null  object \n",
      " 12  creationDate    481092 non-null  object \n",
      " 13  returnShipment  481092 non-null  int64  \n",
      "dtypes: float64(1), int64(5), object(8)\n",
      "memory usage: 51.4+ MB\n"
     ]
    }
   ],
   "source": [
    "df_train.info()"
   ]
  },
  {
   "cell_type": "markdown",
   "id": "5423e43d",
   "metadata": {},
   "source": [
    "### Melihat data NULL pada tiap atribut"
   ]
  },
  {
   "cell_type": "code",
   "execution_count": 60,
   "id": "e05506e9",
   "metadata": {},
   "outputs": [
    {
     "data": {
      "text/plain": [
       "orderItemID           0\n",
       "orderDate             0\n",
       "deliveryDate      39419\n",
       "itemID                0\n",
       "size                  0\n",
       "color               143\n",
       "manufacturerID        0\n",
       "price                 0\n",
       "customerID            0\n",
       "salutation            0\n",
       "dateOfBirth       48889\n",
       "state                 0\n",
       "creationDate          0\n",
       "returnShipment        0\n",
       "dtype: int64"
      ]
     },
     "execution_count": 60,
     "metadata": {},
     "output_type": "execute_result"
    }
   ],
   "source": [
    "df_train.isna().sum()"
   ]
  },
  {
   "cell_type": "markdown",
   "id": "4f512b9a",
   "metadata": {},
   "source": [
    "### Menghapus data yang tidak masuk akal pada atribut dateOfBirth"
   ]
  },
  {
   "cell_type": "code",
   "execution_count": 61,
   "id": "fdc15375",
   "metadata": {},
   "outputs": [
    {
     "data": {
      "text/html": [
       "<div>\n",
       "<style scoped>\n",
       "    .dataframe tbody tr th:only-of-type {\n",
       "        vertical-align: middle;\n",
       "    }\n",
       "\n",
       "    .dataframe tbody tr th {\n",
       "        vertical-align: top;\n",
       "    }\n",
       "\n",
       "    .dataframe thead th {\n",
       "        text-align: right;\n",
       "    }\n",
       "</style>\n",
       "<table border=\"1\" class=\"dataframe\">\n",
       "  <thead>\n",
       "    <tr style=\"text-align: right;\">\n",
       "      <th></th>\n",
       "      <th>orderItemID</th>\n",
       "      <th>orderDate</th>\n",
       "      <th>deliveryDate</th>\n",
       "      <th>itemID</th>\n",
       "      <th>size</th>\n",
       "      <th>color</th>\n",
       "      <th>manufacturerID</th>\n",
       "      <th>price</th>\n",
       "      <th>customerID</th>\n",
       "      <th>salutation</th>\n",
       "      <th>dateOfBirth</th>\n",
       "      <th>state</th>\n",
       "      <th>creationDate</th>\n",
       "      <th>returnShipment</th>\n",
       "    </tr>\n",
       "  </thead>\n",
       "  <tbody>\n",
       "    <tr>\n",
       "      <th>201497</th>\n",
       "      <td>201498</td>\n",
       "      <td>2012-09-12</td>\n",
       "      <td>2012-09-13</td>\n",
       "      <td>1662</td>\n",
       "      <td>l</td>\n",
       "      <td>brown</td>\n",
       "      <td>36</td>\n",
       "      <td>109.9</td>\n",
       "      <td>48469</td>\n",
       "      <td>Mrs</td>\n",
       "      <td>1655-04-19</td>\n",
       "      <td>Bavaria</td>\n",
       "      <td>2011-02-16</td>\n",
       "      <td>1</td>\n",
       "    </tr>\n",
       "    <tr>\n",
       "      <th>223802</th>\n",
       "      <td>223803</td>\n",
       "      <td>2012-09-22</td>\n",
       "      <td>2012-09-24</td>\n",
       "      <td>1662</td>\n",
       "      <td>m</td>\n",
       "      <td>brown</td>\n",
       "      <td>36</td>\n",
       "      <td>109.9</td>\n",
       "      <td>48469</td>\n",
       "      <td>Mrs</td>\n",
       "      <td>1655-04-19</td>\n",
       "      <td>Bavaria</td>\n",
       "      <td>2011-02-16</td>\n",
       "      <td>1</td>\n",
       "    </tr>\n",
       "    <tr>\n",
       "      <th>322553</th>\n",
       "      <td>322554</td>\n",
       "      <td>2013-01-08</td>\n",
       "      <td>2013-01-31</td>\n",
       "      <td>2429</td>\n",
       "      <td>M</td>\n",
       "      <td>black</td>\n",
       "      <td>11</td>\n",
       "      <td>89.9</td>\n",
       "      <td>48469</td>\n",
       "      <td>Mrs</td>\n",
       "      <td>1655-04-19</td>\n",
       "      <td>Bavaria</td>\n",
       "      <td>2011-02-16</td>\n",
       "      <td>0</td>\n",
       "    </tr>\n",
       "  </tbody>\n",
       "</table>\n",
       "</div>"
      ],
      "text/plain": [
       "        orderItemID   orderDate deliveryDate  itemID size  color  \\\n",
       "201497       201498  2012-09-12   2012-09-13    1662    l  brown   \n",
       "223802       223803  2012-09-22   2012-09-24    1662    m  brown   \n",
       "322553       322554  2013-01-08   2013-01-31    2429    M  black   \n",
       "\n",
       "        manufacturerID  price  customerID salutation dateOfBirth    state  \\\n",
       "201497              36  109.9       48469        Mrs  1655-04-19  Bavaria   \n",
       "223802              36  109.9       48469        Mrs  1655-04-19  Bavaria   \n",
       "322553              11   89.9       48469        Mrs  1655-04-19  Bavaria   \n",
       "\n",
       "       creationDate  returnShipment  \n",
       "201497   2011-02-16               1  \n",
       "223802   2011-02-16               1  \n",
       "322553   2011-02-16               0  "
      ]
     },
     "execution_count": 61,
     "metadata": {},
     "output_type": "execute_result"
    }
   ],
   "source": [
    "df_train[df_train['dateOfBirth'] == \"1655-04-19\"]"
   ]
  },
  {
   "cell_type": "code",
   "execution_count": 62,
   "id": "d4e18869",
   "metadata": {},
   "outputs": [],
   "source": [
    "df_train.drop(df_train[df_train['dateOfBirth'] == \"1655-04-19\"].index, inplace = True)"
   ]
  },
  {
   "cell_type": "markdown",
   "id": "4d730897",
   "metadata": {},
   "source": [
    "### Mengubah datatype orderdate, deliverydate, dateofBirth, creationDate dari object menjadi datetime"
   ]
  },
  {
   "cell_type": "code",
   "execution_count": 63,
   "id": "34b734d1",
   "metadata": {},
   "outputs": [],
   "source": [
    "df_train['orderDate'] = pd.to_datetime(df_train['orderDate'], format=\"%Y-%m-%d\")\n",
    "df_train['creationDate'] = pd.to_datetime(df_train['creationDate'], format=\"%Y-%m-%d\")\n",
    "df_train['deliveryDate'] = pd.to_datetime(df_train['deliveryDate'], format=\"%Y-%m-%d\", errors='coerce')\n",
    "df_train['dateOfBirth'] = pd.to_datetime(df_train['dateOfBirth'], format=\"%Y-%m-%d\", errors='coerce')"
   ]
  },
  {
   "cell_type": "markdown",
   "id": "5316e359",
   "metadata": {},
   "source": [
    "### Melihat jumlah setiap value pada atribut returnShipment"
   ]
  },
  {
   "cell_type": "code",
   "execution_count": 64,
   "id": "15c73a84",
   "metadata": {},
   "outputs": [
    {
     "data": {
      "text/plain": [
       "0    249000\n",
       "1    232089\n",
       "Name: returnShipment, dtype: int64"
      ]
     },
     "execution_count": 64,
     "metadata": {},
     "output_type": "execute_result"
    }
   ],
   "source": [
    "df_train.returnShipment.value_counts(dropna=False)"
   ]
  },
  {
   "cell_type": "markdown",
   "id": "b03607e4",
   "metadata": {},
   "source": [
    "### Melihat jumlah setiap value pada atribut Salutation"
   ]
  },
  {
   "cell_type": "code",
   "execution_count": 65,
   "id": "1ce29f46",
   "metadata": {},
   "outputs": [
    {
     "data": {
      "text/plain": [
       "Mrs             461766\n",
       "Mr               16720\n",
       "Family            1891\n",
       "Company            361\n",
       "not reported       351\n",
       "Name: salutation, dtype: int64"
      ]
     },
     "execution_count": 65,
     "metadata": {},
     "output_type": "execute_result"
    }
   ],
   "source": [
    "df_train.salutation.value_counts()"
   ]
  },
  {
   "cell_type": "markdown",
   "id": "cf6af8a3",
   "metadata": {},
   "source": [
    "### Melihat jumlah setiap value pada atribut Size"
   ]
  },
  {
   "cell_type": "code",
   "execution_count": 66,
   "id": "6477490c",
   "metadata": {},
   "outputs": [
    {
     "data": {
      "text/plain": [
       "l          37288\n",
       "xl         34972\n",
       "40         34118\n",
       "m          32336\n",
       "39         29318\n",
       "L          28445\n",
       "xxl        27247\n",
       "unsized    26039\n",
       "XL         25155\n",
       "38         24780\n",
       "Name: size, dtype: int64"
      ]
     },
     "execution_count": 66,
     "metadata": {},
     "output_type": "execute_result"
    }
   ],
   "source": [
    "df_train['size'].value_counts().head(10)"
   ]
  },
  {
   "cell_type": "markdown",
   "id": "cc1dba96",
   "metadata": {},
   "source": [
    "### Melihat jumlah setiap value pada atribut Color"
   ]
  },
  {
   "cell_type": "code",
   "execution_count": 67,
   "id": "11d084e1",
   "metadata": {},
   "outputs": [
    {
     "data": {
      "text/plain": [
       "dark oliv         149\n",
       "baltic blue       147\n",
       "gold               98\n",
       "kanel              78\n",
       "cobalt blue        76\n",
       "dark garnet        74\n",
       "brwon              67\n",
       "dark grey          65\n",
       "almond             59\n",
       "antique pink       35\n",
       "currant purple     34\n",
       "Name: color, dtype: int64"
      ]
     },
     "execution_count": 67,
     "metadata": {},
     "output_type": "execute_result"
    }
   ],
   "source": [
    "color = df_train['color'].value_counts()\n",
    "color[59:70]"
   ]
  },
  {
   "cell_type": "code",
   "execution_count": 68,
   "id": "a35a9172",
   "metadata": {},
   "outputs": [
    {
     "data": {
      "text/html": [
       "<div>\n",
       "<style scoped>\n",
       "    .dataframe tbody tr th:only-of-type {\n",
       "        vertical-align: middle;\n",
       "    }\n",
       "\n",
       "    .dataframe tbody tr th {\n",
       "        vertical-align: top;\n",
       "    }\n",
       "\n",
       "    .dataframe thead th {\n",
       "        text-align: right;\n",
       "    }\n",
       "</style>\n",
       "<table border=\"1\" class=\"dataframe\">\n",
       "  <thead>\n",
       "    <tr style=\"text-align: right;\">\n",
       "      <th></th>\n",
       "      <th>orderItemID</th>\n",
       "      <th>orderDate</th>\n",
       "      <th>deliveryDate</th>\n",
       "      <th>itemID</th>\n",
       "      <th>size</th>\n",
       "      <th>color</th>\n",
       "      <th>manufacturerID</th>\n",
       "      <th>price</th>\n",
       "      <th>customerID</th>\n",
       "      <th>salutation</th>\n",
       "      <th>dateOfBirth</th>\n",
       "      <th>state</th>\n",
       "      <th>creationDate</th>\n",
       "      <th>returnShipment</th>\n",
       "    </tr>\n",
       "  </thead>\n",
       "  <tbody>\n",
       "    <tr>\n",
       "      <th>1037</th>\n",
       "      <td>1038</td>\n",
       "      <td>2012-04-01</td>\n",
       "      <td>2012-04-05</td>\n",
       "      <td>20</td>\n",
       "      <td>42</td>\n",
       "      <td>brwon</td>\n",
       "      <td>15</td>\n",
       "      <td>54.95</td>\n",
       "      <td>1571</td>\n",
       "      <td>Mrs</td>\n",
       "      <td>1966-07-25</td>\n",
       "      <td>Lower Saxony</td>\n",
       "      <td>2011-06-06</td>\n",
       "      <td>0</td>\n",
       "    </tr>\n",
       "    <tr>\n",
       "      <th>1766</th>\n",
       "      <td>1767</td>\n",
       "      <td>2012-04-02</td>\n",
       "      <td>2012-05-07</td>\n",
       "      <td>653</td>\n",
       "      <td>38</td>\n",
       "      <td>brwon</td>\n",
       "      <td>15</td>\n",
       "      <td>54.95</td>\n",
       "      <td>1883</td>\n",
       "      <td>Mrs</td>\n",
       "      <td>NaT</td>\n",
       "      <td>Lower Saxony</td>\n",
       "      <td>2012-02-28</td>\n",
       "      <td>1</td>\n",
       "    </tr>\n",
       "    <tr>\n",
       "      <th>7136</th>\n",
       "      <td>7137</td>\n",
       "      <td>2012-04-07</td>\n",
       "      <td>NaT</td>\n",
       "      <td>913</td>\n",
       "      <td>8+</td>\n",
       "      <td>brwon</td>\n",
       "      <td>48</td>\n",
       "      <td>89.90</td>\n",
       "      <td>4201</td>\n",
       "      <td>Mrs</td>\n",
       "      <td>1953-04-02</td>\n",
       "      <td>North Rhine-Westphalia</td>\n",
       "      <td>2012-03-25</td>\n",
       "      <td>0</td>\n",
       "    </tr>\n",
       "    <tr>\n",
       "      <th>8351</th>\n",
       "      <td>8352</td>\n",
       "      <td>2012-04-09</td>\n",
       "      <td>2012-04-27</td>\n",
       "      <td>617</td>\n",
       "      <td>43</td>\n",
       "      <td>brwon</td>\n",
       "      <td>15</td>\n",
       "      <td>54.95</td>\n",
       "      <td>4671</td>\n",
       "      <td>Mrs</td>\n",
       "      <td>1972-08-04</td>\n",
       "      <td>Bavaria</td>\n",
       "      <td>2012-04-08</td>\n",
       "      <td>0</td>\n",
       "    </tr>\n",
       "    <tr>\n",
       "      <th>13696</th>\n",
       "      <td>13697</td>\n",
       "      <td>2012-04-10</td>\n",
       "      <td>2012-05-07</td>\n",
       "      <td>653</td>\n",
       "      <td>39</td>\n",
       "      <td>brwon</td>\n",
       "      <td>15</td>\n",
       "      <td>54.95</td>\n",
       "      <td>6517</td>\n",
       "      <td>Mrs</td>\n",
       "      <td>NaT</td>\n",
       "      <td>Bavaria</td>\n",
       "      <td>2012-04-10</td>\n",
       "      <td>0</td>\n",
       "    </tr>\n",
       "  </tbody>\n",
       "</table>\n",
       "</div>"
      ],
      "text/plain": [
       "       orderItemID  orderDate deliveryDate  itemID size  color  \\\n",
       "1037          1038 2012-04-01   2012-04-05      20   42  brwon   \n",
       "1766          1767 2012-04-02   2012-05-07     653   38  brwon   \n",
       "7136          7137 2012-04-07          NaT     913   8+  brwon   \n",
       "8351          8352 2012-04-09   2012-04-27     617   43  brwon   \n",
       "13696        13697 2012-04-10   2012-05-07     653   39  brwon   \n",
       "\n",
       "       manufacturerID  price  customerID salutation dateOfBirth  \\\n",
       "1037               15  54.95        1571        Mrs  1966-07-25   \n",
       "1766               15  54.95        1883        Mrs         NaT   \n",
       "7136               48  89.90        4201        Mrs  1953-04-02   \n",
       "8351               15  54.95        4671        Mrs  1972-08-04   \n",
       "13696              15  54.95        6517        Mrs         NaT   \n",
       "\n",
       "                        state creationDate  returnShipment  \n",
       "1037             Lower Saxony   2011-06-06               0  \n",
       "1766             Lower Saxony   2012-02-28               1  \n",
       "7136   North Rhine-Westphalia   2012-03-25               0  \n",
       "8351                  Bavaria   2012-04-08               0  \n",
       "13696                 Bavaria   2012-04-10               0  "
      ]
     },
     "execution_count": 68,
     "metadata": {},
     "output_type": "execute_result"
    }
   ],
   "source": [
    "# apakah brwn adalah sebuah warna ?\n",
    "df_train[df_train['color'] == 'brwon'].head()"
   ]
  },
  {
   "cell_type": "code",
   "execution_count": 69,
   "id": "4be9cca6",
   "metadata": {
    "scrolled": true
   },
   "outputs": [
    {
     "data": {
      "text/html": [
       "<div>\n",
       "<style scoped>\n",
       "    .dataframe tbody tr th:only-of-type {\n",
       "        vertical-align: middle;\n",
       "    }\n",
       "\n",
       "    .dataframe tbody tr th {\n",
       "        vertical-align: top;\n",
       "    }\n",
       "\n",
       "    .dataframe thead th {\n",
       "        text-align: right;\n",
       "    }\n",
       "</style>\n",
       "<table border=\"1\" class=\"dataframe\">\n",
       "  <thead>\n",
       "    <tr style=\"text-align: right;\">\n",
       "      <th></th>\n",
       "      <th>orderItemID</th>\n",
       "      <th>orderDate</th>\n",
       "      <th>deliveryDate</th>\n",
       "      <th>itemID</th>\n",
       "      <th>size</th>\n",
       "      <th>color</th>\n",
       "      <th>manufacturerID</th>\n",
       "      <th>price</th>\n",
       "      <th>customerID</th>\n",
       "      <th>salutation</th>\n",
       "      <th>dateOfBirth</th>\n",
       "      <th>state</th>\n",
       "      <th>creationDate</th>\n",
       "      <th>returnShipment</th>\n",
       "    </tr>\n",
       "  </thead>\n",
       "  <tbody>\n",
       "    <tr>\n",
       "      <th>320</th>\n",
       "      <td>321</td>\n",
       "      <td>2012-04-01</td>\n",
       "      <td>2012-04-04</td>\n",
       "      <td>32</td>\n",
       "      <td>l</td>\n",
       "      <td>blau</td>\n",
       "      <td>3</td>\n",
       "      <td>24.9</td>\n",
       "      <td>1191</td>\n",
       "      <td>Mrs</td>\n",
       "      <td>1963-06-21</td>\n",
       "      <td>Lower Saxony</td>\n",
       "      <td>2012-03-31</td>\n",
       "      <td>1</td>\n",
       "    </tr>\n",
       "    <tr>\n",
       "      <th>573</th>\n",
       "      <td>574</td>\n",
       "      <td>2012-04-01</td>\n",
       "      <td>2012-04-26</td>\n",
       "      <td>32</td>\n",
       "      <td>xl</td>\n",
       "      <td>blau</td>\n",
       "      <td>3</td>\n",
       "      <td>24.9</td>\n",
       "      <td>1317</td>\n",
       "      <td>Mrs</td>\n",
       "      <td>1900-11-19</td>\n",
       "      <td>Bavaria</td>\n",
       "      <td>2011-11-03</td>\n",
       "      <td>0</td>\n",
       "    </tr>\n",
       "    <tr>\n",
       "      <th>905</th>\n",
       "      <td>906</td>\n",
       "      <td>2012-04-01</td>\n",
       "      <td>2012-04-04</td>\n",
       "      <td>32</td>\n",
       "      <td>m</td>\n",
       "      <td>blau</td>\n",
       "      <td>3</td>\n",
       "      <td>21.9</td>\n",
       "      <td>1507</td>\n",
       "      <td>Mrs</td>\n",
       "      <td>1957-12-14</td>\n",
       "      <td>North Rhine-Westphalia</td>\n",
       "      <td>2011-02-16</td>\n",
       "      <td>1</td>\n",
       "    </tr>\n",
       "    <tr>\n",
       "      <th>1017</th>\n",
       "      <td>1018</td>\n",
       "      <td>2012-04-03</td>\n",
       "      <td>2012-04-04</td>\n",
       "      <td>32</td>\n",
       "      <td>xxl</td>\n",
       "      <td>blau</td>\n",
       "      <td>3</td>\n",
       "      <td>24.9</td>\n",
       "      <td>1563</td>\n",
       "      <td>Mrs</td>\n",
       "      <td>1955-02-12</td>\n",
       "      <td>Hamburg</td>\n",
       "      <td>2012-03-28</td>\n",
       "      <td>0</td>\n",
       "    </tr>\n",
       "    <tr>\n",
       "      <th>1394</th>\n",
       "      <td>1395</td>\n",
       "      <td>2012-04-01</td>\n",
       "      <td>2012-04-06</td>\n",
       "      <td>32</td>\n",
       "      <td>l</td>\n",
       "      <td>blau</td>\n",
       "      <td>3</td>\n",
       "      <td>21.9</td>\n",
       "      <td>1748</td>\n",
       "      <td>Mrs</td>\n",
       "      <td>1968-02-06</td>\n",
       "      <td>Saxony</td>\n",
       "      <td>2012-04-01</td>\n",
       "      <td>0</td>\n",
       "    </tr>\n",
       "  </tbody>\n",
       "</table>\n",
       "</div>"
      ],
      "text/plain": [
       "      orderItemID  orderDate deliveryDate  itemID size color  manufacturerID  \\\n",
       "320           321 2012-04-01   2012-04-04      32    l  blau               3   \n",
       "573           574 2012-04-01   2012-04-26      32   xl  blau               3   \n",
       "905           906 2012-04-01   2012-04-04      32    m  blau               3   \n",
       "1017         1018 2012-04-03   2012-04-04      32  xxl  blau               3   \n",
       "1394         1395 2012-04-01   2012-04-06      32    l  blau               3   \n",
       "\n",
       "      price  customerID salutation dateOfBirth                   state  \\\n",
       "320    24.9        1191        Mrs  1963-06-21            Lower Saxony   \n",
       "573    24.9        1317        Mrs  1900-11-19                 Bavaria   \n",
       "905    21.9        1507        Mrs  1957-12-14  North Rhine-Westphalia   \n",
       "1017   24.9        1563        Mrs  1955-02-12                 Hamburg   \n",
       "1394   21.9        1748        Mrs  1968-02-06                  Saxony   \n",
       "\n",
       "     creationDate  returnShipment  \n",
       "320    2012-03-31               1  \n",
       "573    2011-11-03               0  \n",
       "905    2011-02-16               1  \n",
       "1017   2012-03-28               0  \n",
       "1394   2012-04-01               0  "
      ]
     },
     "execution_count": 69,
     "metadata": {},
     "output_type": "execute_result"
    }
   ],
   "source": [
    "# blau adalah bahasa jerman dari blue\n",
    "df_train[df_train['color'] == 'blau'].head()"
   ]
  },
  {
   "cell_type": "markdown",
   "id": "863168ad",
   "metadata": {},
   "source": [
    "### Mengubah data blau dan brwon pada atribut color"
   ]
  },
  {
   "cell_type": "code",
   "execution_count": 70,
   "id": "052134c3",
   "metadata": {},
   "outputs": [],
   "source": [
    "df_train.color = np.where(df_train.color == 'brwon', 'brown', df_train.color)\n",
    "df_train.color = np.where(df_train.color == 'blau', 'blue', df_train.color)"
   ]
  },
  {
   "cell_type": "markdown",
   "id": "c5551b3d",
   "metadata": {},
   "source": [
    "### Mengelompokkan atribut color menjadi warna dasar "
   ]
  },
  {
   "cell_type": "code",
   "execution_count": 71,
   "id": "7eaa97ac",
   "metadata": {},
   "outputs": [],
   "source": [
    "df_train['color'] = df_train['color'].replace(['amethyst'], 'purple')\n",
    "df_train['color'] = df_train['color'].replace(['almond'], 'brown')\n",
    "df_train['color'] = df_train['color'].replace(['ancient'], 'brown')\n",
    "df_train['color'] = df_train['color'].replace(['anthracite'], 'grey')\n",
    "df_train['color'] = df_train['color'].replace(['antique pink'], 'pink')\n",
    "df_train['color'] = df_train['color'].replace(['apricot'], 'orange')\n",
    "df_train['color'] = df_train['color'].replace(['aqua'], 'blue')\n",
    "df_train['color'] = df_train['color'].replace(['aquamarine'], 'blue')\n",
    "df_train['color'] = df_train['color'].replace(['ash'], 'grey')\n",
    "df_train['color'] = df_train['color'].replace(['aubergine'], 'purple')\n",
    "df_train['color'] = df_train['color'].replace(['aviator'], 'grey')\n",
    "df_train['color'] = df_train['color'].replace(['avocado'], 'green')\n",
    "df_train['color'] = df_train['color'].replace(['azure'], 'blue')\n",
    "df_train['color'] = df_train['color'].replace(['baltic blue'], 'blue')\n",
    "df_train['color'] = df_train['color'].replace(['basalt'], 'grey')\n",
    "df_train['color'] = df_train['color'].replace(['beige'], 'yellow')\n",
    "df_train['color'] = df_train['color'].replace(['berry'], 'red')\n",
    "df_train['color'] = df_train['color'].replace(['bordeaux'], 'red')\n",
    "df_train['color'] = df_train['color'].replace(['caramel'], 'brown')\n",
    "df_train['color'] = df_train['color'].replace(['bronze'], 'brown')\n",
    "df_train['color'] = df_train['color'].replace(['champagner'], 'yellow')\n",
    "df_train['color'] = df_train['color'].replace(['cognac'], 'red')\n",
    "df_train['color'] = df_train['color'].replace(['copper coin'], 'brown')\n",
    "df_train['color'] = df_train['color'].replace(['coral'], 'orange')\n",
    "df_train['color'] = df_train['color'].replace(['cortina mocca'], 'brown')\n",
    "df_train['color'] = df_train['color'].replace(['creme'], 'brown')\n",
    "df_train['color'] = df_train['color'].replace(['crimson'], 'red')\n",
    "df_train['color'] = df_train['color'].replace(['curled'], 'brown')\n",
    "df_train['color'] = df_train['color'].replace(['currant purple'], 'purple')\n",
    "df_train['color'] = df_train['color'].replace(['curry'], 'yellow')\n",
    "df_train['color'] = df_train['color'].replace(['dark denim'], 'blue')\n",
    "df_train['color'] = df_train['color'].replace(['dark garnet'], 'purple')\n",
    "df_train['color'] = df_train['color'].replace(['dark grey'], 'grey')\n",
    "df_train['color'] = df_train['color'].replace(['dark navy'], 'blue')\n",
    "df_train['color'] = df_train['color'].replace(['dark oliv'], 'green')\n",
    "df_train['color'] = df_train['color'].replace(['darkblue'], 'blue')\n",
    "df_train['color'] = df_train['color'].replace(['denim'], 'blue')\n",
    "df_train['color'] = df_train['color'].replace(['ebony'], 'brown')\n",
    "df_train['color'] = df_train['color'].replace(['ecru'], 'brown')\n",
    "df_train['color'] = df_train['color'].replace(['floral'], 'red')\n",
    "df_train['color'] = df_train['color'].replace(['fuchsia'], 'purple')\n",
    "df_train['color'] = df_train['color'].replace(['gold'], 'yellow')\n",
    "df_train['color'] = df_train['color'].replace(['graphite'], 'grey')\n",
    "df_train['color'] = df_train['color'].replace(['habana'], 'brown')\n",
    "df_train['color'] = df_train['color'].replace(['hibiscus'], 'red')\n",
    "df_train['color'] = df_train['color'].replace(['ingwer'], 'yellow')\n",
    "df_train['color'] = df_train['color'].replace(['iron'], 'grey')\n",
    "df_train['color'] = df_train['color'].replace(['ivory'], 'yellow')\n",
    "df_train['color'] = df_train['color'].replace(['jade'], 'green')\n",
    "df_train['color'] = df_train['color'].replace(['kanel'], 'brown')\n",
    "df_train['color'] = df_train['color'].replace(['khaki'], 'brown')\n",
    "df_train['color'] = df_train['color'].replace(['lemon'], 'yellow')\n",
    "df_train['color'] = df_train['color'].replace(['leopard'], 'orange')\n",
    "df_train['color'] = df_train['color'].replace(['magenta'], 'purple')\n",
    "df_train['color'] = df_train['color'].replace(['mango'], 'orange')\n",
    "df_train['color'] = df_train['color'].replace(['mint'], 'green')\n",
    "df_train['color'] = df_train['color'].replace(['mocca'], 'brown')\n",
    "df_train['color'] = df_train['color'].replace(['nature'], 'green')\n",
    "df_train['color'] = df_train['color'].replace(['navy'], 'blue')\n",
    "df_train['color'] = df_train['color'].replace(['ocher'], 'brown')\n",
    "df_train['color'] = df_train['color'].replace(['oliv'], 'green')\n",
    "df_train['color'] = df_train['color'].replace(['olive'], 'green')\n",
    "df_train['color'] = df_train['color'].replace(['opal'], 'blue')\n",
    "df_train['color'] = df_train['color'].replace(['pallid'], 'green')\n",
    "df_train['color'] = df_train['color'].replace(['perlmutt'], 'blue')\n",
    "df_train['color'] = df_train['color'].replace(['petrol'], 'blue')\n",
    "df_train['color'] = df_train['color'].replace(['silver'], 'grey')\n",
    "df_train['color'] = df_train['color'].replace(['stained'], 'grey')\n",
    "df_train['color'] = df_train['color'].replace(['striped'], 'black')\n",
    "df_train['color'] = df_train['color'].replace(['terracotta'], 'brown')\n",
    "df_train['color'] = df_train['color'].replace(['turquoise'], 'green')\n",
    "df_train['color'] = df_train['color'].replace(['vanille'], 'white')\n",
    "df_train['color'] = df_train['color'].replace(['cobalt blue'], 'blue')\n",
    "df_train['color'] = df_train['color'].replace(['mahagoni'], 'brown')"
   ]
  },
  {
   "cell_type": "markdown",
   "id": "a489b14c",
   "metadata": {},
   "source": [
    "### melihat data pada atribut dateOfBirth yang null berdasarkan atribut salutation"
   ]
  },
  {
   "cell_type": "code",
   "execution_count": 72,
   "id": "ac7e54ef",
   "metadata": {},
   "outputs": [
    {
     "data": {
      "text/plain": [
       "Company            25\n",
       "Family            251\n",
       "Mr               3180\n",
       "Mrs             45382\n",
       "not reported       51\n",
       "Name: salutation, dtype: int64"
      ]
     },
     "execution_count": 72,
     "metadata": {},
     "output_type": "execute_result"
    }
   ],
   "source": [
    "df_train.loc[df_train['dateOfBirth'].isna()].salutation.value_counts(dropna=False).sort_index()"
   ]
  },
  {
   "cell_type": "markdown",
   "id": "059a9d05",
   "metadata": {},
   "source": [
    "### Membuat atribut umur (age)"
   ]
  },
  {
   "cell_type": "code",
   "execution_count": 73,
   "id": "2b2c68db",
   "metadata": {},
   "outputs": [],
   "source": [
    "# tahun sekarang dikurangi tahun pada atribut dateOfBirth\n",
    "now = pd.Timestamp('now')\n",
    "df_train['dateOfBirth'] = df_train['dateOfBirth'].where(df_train['dateOfBirth'] < now, df_train['dateOfBirth'] -  np.timedelta64(100, 'Y'))\n",
    "df_train['age'] = (now - df_train['dateOfBirth']).astype('<m8[Y]')"
   ]
  },
  {
   "cell_type": "code",
   "execution_count": 74,
   "id": "83d6a20f",
   "metadata": {},
   "outputs": [
    {
     "data": {
      "text/html": [
       "<div>\n",
       "<style scoped>\n",
       "    .dataframe tbody tr th:only-of-type {\n",
       "        vertical-align: middle;\n",
       "    }\n",
       "\n",
       "    .dataframe tbody tr th {\n",
       "        vertical-align: top;\n",
       "    }\n",
       "\n",
       "    .dataframe thead th {\n",
       "        text-align: right;\n",
       "    }\n",
       "</style>\n",
       "<table border=\"1\" class=\"dataframe\">\n",
       "  <thead>\n",
       "    <tr style=\"text-align: right;\">\n",
       "      <th></th>\n",
       "      <th>age</th>\n",
       "    </tr>\n",
       "    <tr>\n",
       "      <th>salutation</th>\n",
       "      <th></th>\n",
       "    </tr>\n",
       "  </thead>\n",
       "  <tbody>\n",
       "    <tr>\n",
       "      <th>Company</th>\n",
       "      <td>58.541667</td>\n",
       "    </tr>\n",
       "    <tr>\n",
       "      <th>Family</th>\n",
       "      <td>53.799390</td>\n",
       "    </tr>\n",
       "    <tr>\n",
       "      <th>Mr</th>\n",
       "      <td>58.306869</td>\n",
       "    </tr>\n",
       "    <tr>\n",
       "      <th>Mrs</th>\n",
       "      <td>58.128939</td>\n",
       "    </tr>\n",
       "    <tr>\n",
       "      <th>not reported</th>\n",
       "      <td>59.890000</td>\n",
       "    </tr>\n",
       "  </tbody>\n",
       "</table>\n",
       "</div>"
      ],
      "text/plain": [
       "                    age\n",
       "salutation             \n",
       "Company       58.541667\n",
       "Family        53.799390\n",
       "Mr            58.306869\n",
       "Mrs           58.128939\n",
       "not reported  59.890000"
      ]
     },
     "execution_count": 74,
     "metadata": {},
     "output_type": "execute_result"
    }
   ],
   "source": [
    "# mencari umur rata-rata berdasarkan atribut salutation\n",
    "df_avg = pd.DataFrame((df_train.groupby('salutation').mean().age))\n",
    "df_avg\n"
   ]
  },
  {
   "cell_type": "code",
   "execution_count": 75,
   "id": "1803ee6b",
   "metadata": {},
   "outputs": [
    {
     "data": {
      "text/html": [
       "<div>\n",
       "<style scoped>\n",
       "    .dataframe tbody tr th:only-of-type {\n",
       "        vertical-align: middle;\n",
       "    }\n",
       "\n",
       "    .dataframe tbody tr th {\n",
       "        vertical-align: top;\n",
       "    }\n",
       "\n",
       "    .dataframe thead th {\n",
       "        text-align: right;\n",
       "    }\n",
       "</style>\n",
       "<table border=\"1\" class=\"dataframe\">\n",
       "  <thead>\n",
       "    <tr style=\"text-align: right;\">\n",
       "      <th></th>\n",
       "      <th>orderItemID</th>\n",
       "      <th>orderDate</th>\n",
       "      <th>deliveryDate</th>\n",
       "      <th>itemID</th>\n",
       "      <th>size</th>\n",
       "      <th>color</th>\n",
       "      <th>manufacturerID</th>\n",
       "      <th>price</th>\n",
       "      <th>customerID</th>\n",
       "      <th>salutation</th>\n",
       "      <th>dateOfBirth</th>\n",
       "      <th>state</th>\n",
       "      <th>creationDate</th>\n",
       "      <th>returnShipment</th>\n",
       "      <th>age</th>\n",
       "    </tr>\n",
       "  </thead>\n",
       "  <tbody>\n",
       "    <tr>\n",
       "      <th>79</th>\n",
       "      <td>80</td>\n",
       "      <td>2012-04-02</td>\n",
       "      <td>2012-04-26</td>\n",
       "      <td>239</td>\n",
       "      <td>unsized</td>\n",
       "      <td>brown</td>\n",
       "      <td>60</td>\n",
       "      <td>0.00</td>\n",
       "      <td>50</td>\n",
       "      <td>Mrs</td>\n",
       "      <td>1900-11-19</td>\n",
       "      <td>Baden-Wuerttemberg</td>\n",
       "      <td>2011-11-06</td>\n",
       "      <td>0</td>\n",
       "      <td>122.0</td>\n",
       "    </tr>\n",
       "    <tr>\n",
       "      <th>570</th>\n",
       "      <td>571</td>\n",
       "      <td>2012-04-01</td>\n",
       "      <td>2012-04-04</td>\n",
       "      <td>287</td>\n",
       "      <td>38</td>\n",
       "      <td>blue</td>\n",
       "      <td>61</td>\n",
       "      <td>49.90</td>\n",
       "      <td>1317</td>\n",
       "      <td>Mrs</td>\n",
       "      <td>1900-11-19</td>\n",
       "      <td>Bavaria</td>\n",
       "      <td>2011-11-03</td>\n",
       "      <td>0</td>\n",
       "      <td>122.0</td>\n",
       "    </tr>\n",
       "    <tr>\n",
       "      <th>571</th>\n",
       "      <td>572</td>\n",
       "      <td>2012-04-01</td>\n",
       "      <td>2012-04-04</td>\n",
       "      <td>287</td>\n",
       "      <td>37</td>\n",
       "      <td>blue</td>\n",
       "      <td>61</td>\n",
       "      <td>49.90</td>\n",
       "      <td>1317</td>\n",
       "      <td>Mrs</td>\n",
       "      <td>1900-11-19</td>\n",
       "      <td>Bavaria</td>\n",
       "      <td>2011-11-03</td>\n",
       "      <td>1</td>\n",
       "      <td>122.0</td>\n",
       "    </tr>\n",
       "    <tr>\n",
       "      <th>572</th>\n",
       "      <td>573</td>\n",
       "      <td>2012-04-01</td>\n",
       "      <td>2012-04-04</td>\n",
       "      <td>54</td>\n",
       "      <td>l</td>\n",
       "      <td>blue</td>\n",
       "      <td>30</td>\n",
       "      <td>32.95</td>\n",
       "      <td>1317</td>\n",
       "      <td>Mrs</td>\n",
       "      <td>1900-11-19</td>\n",
       "      <td>Bavaria</td>\n",
       "      <td>2011-11-03</td>\n",
       "      <td>0</td>\n",
       "      <td>122.0</td>\n",
       "    </tr>\n",
       "    <tr>\n",
       "      <th>573</th>\n",
       "      <td>574</td>\n",
       "      <td>2012-04-01</td>\n",
       "      <td>2012-04-26</td>\n",
       "      <td>32</td>\n",
       "      <td>xl</td>\n",
       "      <td>blue</td>\n",
       "      <td>3</td>\n",
       "      <td>24.90</td>\n",
       "      <td>1317</td>\n",
       "      <td>Mrs</td>\n",
       "      <td>1900-11-19</td>\n",
       "      <td>Bavaria</td>\n",
       "      <td>2011-11-03</td>\n",
       "      <td>0</td>\n",
       "      <td>122.0</td>\n",
       "    </tr>\n",
       "    <tr>\n",
       "      <th>...</th>\n",
       "      <td>...</td>\n",
       "      <td>...</td>\n",
       "      <td>...</td>\n",
       "      <td>...</td>\n",
       "      <td>...</td>\n",
       "      <td>...</td>\n",
       "      <td>...</td>\n",
       "      <td>...</td>\n",
       "      <td>...</td>\n",
       "      <td>...</td>\n",
       "      <td>...</td>\n",
       "      <td>...</td>\n",
       "      <td>...</td>\n",
       "      <td>...</td>\n",
       "      <td>...</td>\n",
       "    </tr>\n",
       "    <tr>\n",
       "      <th>480648</th>\n",
       "      <td>480649</td>\n",
       "      <td>2013-03-31</td>\n",
       "      <td>2013-05-22</td>\n",
       "      <td>2414</td>\n",
       "      <td>M</td>\n",
       "      <td>black</td>\n",
       "      <td>14</td>\n",
       "      <td>69.90</td>\n",
       "      <td>41216</td>\n",
       "      <td>Mrs</td>\n",
       "      <td>1900-11-19</td>\n",
       "      <td>Berlin</td>\n",
       "      <td>2011-10-06</td>\n",
       "      <td>1</td>\n",
       "      <td>122.0</td>\n",
       "    </tr>\n",
       "    <tr>\n",
       "      <th>480903</th>\n",
       "      <td>480904</td>\n",
       "      <td>2013-03-31</td>\n",
       "      <td>2013-05-22</td>\n",
       "      <td>2720</td>\n",
       "      <td>36</td>\n",
       "      <td>blue</td>\n",
       "      <td>14</td>\n",
       "      <td>59.90</td>\n",
       "      <td>39508</td>\n",
       "      <td>Mrs</td>\n",
       "      <td>1900-11-19</td>\n",
       "      <td>Schleswig-Holstein</td>\n",
       "      <td>2011-09-23</td>\n",
       "      <td>1</td>\n",
       "      <td>122.0</td>\n",
       "    </tr>\n",
       "    <tr>\n",
       "      <th>480904</th>\n",
       "      <td>480905</td>\n",
       "      <td>2013-03-31</td>\n",
       "      <td>2013-06-21</td>\n",
       "      <td>2430</td>\n",
       "      <td>S</td>\n",
       "      <td>green</td>\n",
       "      <td>11</td>\n",
       "      <td>79.90</td>\n",
       "      <td>39508</td>\n",
       "      <td>Mrs</td>\n",
       "      <td>1900-11-19</td>\n",
       "      <td>Schleswig-Holstein</td>\n",
       "      <td>2011-09-23</td>\n",
       "      <td>1</td>\n",
       "      <td>122.0</td>\n",
       "    </tr>\n",
       "    <tr>\n",
       "      <th>480905</th>\n",
       "      <td>480906</td>\n",
       "      <td>2013-03-31</td>\n",
       "      <td>2013-07-01</td>\n",
       "      <td>2423</td>\n",
       "      <td>S</td>\n",
       "      <td>blue</td>\n",
       "      <td>28</td>\n",
       "      <td>89.90</td>\n",
       "      <td>39508</td>\n",
       "      <td>Mrs</td>\n",
       "      <td>1900-11-19</td>\n",
       "      <td>Schleswig-Holstein</td>\n",
       "      <td>2011-09-23</td>\n",
       "      <td>1</td>\n",
       "      <td>122.0</td>\n",
       "    </tr>\n",
       "    <tr>\n",
       "      <th>480906</th>\n",
       "      <td>480907</td>\n",
       "      <td>2013-03-31</td>\n",
       "      <td>2013-07-11</td>\n",
       "      <td>3038</td>\n",
       "      <td>S</td>\n",
       "      <td>white</td>\n",
       "      <td>33</td>\n",
       "      <td>29.90</td>\n",
       "      <td>39508</td>\n",
       "      <td>Mrs</td>\n",
       "      <td>1900-11-19</td>\n",
       "      <td>Schleswig-Holstein</td>\n",
       "      <td>2011-09-23</td>\n",
       "      <td>0</td>\n",
       "      <td>122.0</td>\n",
       "    </tr>\n",
       "  </tbody>\n",
       "</table>\n",
       "<p>4102 rows × 15 columns</p>\n",
       "</div>"
      ],
      "text/plain": [
       "        orderItemID  orderDate deliveryDate  itemID     size  color  \\\n",
       "79               80 2012-04-02   2012-04-26     239  unsized  brown   \n",
       "570             571 2012-04-01   2012-04-04     287       38   blue   \n",
       "571             572 2012-04-01   2012-04-04     287       37   blue   \n",
       "572             573 2012-04-01   2012-04-04      54        l   blue   \n",
       "573             574 2012-04-01   2012-04-26      32       xl   blue   \n",
       "...             ...        ...          ...     ...      ...    ...   \n",
       "480648       480649 2013-03-31   2013-05-22    2414        M  black   \n",
       "480903       480904 2013-03-31   2013-05-22    2720       36   blue   \n",
       "480904       480905 2013-03-31   2013-06-21    2430        S  green   \n",
       "480905       480906 2013-03-31   2013-07-01    2423        S   blue   \n",
       "480906       480907 2013-03-31   2013-07-11    3038        S  white   \n",
       "\n",
       "        manufacturerID  price  customerID salutation dateOfBirth  \\\n",
       "79                  60   0.00          50        Mrs  1900-11-19   \n",
       "570                 61  49.90        1317        Mrs  1900-11-19   \n",
       "571                 61  49.90        1317        Mrs  1900-11-19   \n",
       "572                 30  32.95        1317        Mrs  1900-11-19   \n",
       "573                  3  24.90        1317        Mrs  1900-11-19   \n",
       "...                ...    ...         ...        ...         ...   \n",
       "480648              14  69.90       41216        Mrs  1900-11-19   \n",
       "480903              14  59.90       39508        Mrs  1900-11-19   \n",
       "480904              11  79.90       39508        Mrs  1900-11-19   \n",
       "480905              28  89.90       39508        Mrs  1900-11-19   \n",
       "480906              33  29.90       39508        Mrs  1900-11-19   \n",
       "\n",
       "                     state creationDate  returnShipment    age  \n",
       "79      Baden-Wuerttemberg   2011-11-06               0  122.0  \n",
       "570                Bavaria   2011-11-03               0  122.0  \n",
       "571                Bavaria   2011-11-03               1  122.0  \n",
       "572                Bavaria   2011-11-03               0  122.0  \n",
       "573                Bavaria   2011-11-03               0  122.0  \n",
       "...                    ...          ...             ...    ...  \n",
       "480648              Berlin   2011-10-06               1  122.0  \n",
       "480903  Schleswig-Holstein   2011-09-23               1  122.0  \n",
       "480904  Schleswig-Holstein   2011-09-23               1  122.0  \n",
       "480905  Schleswig-Holstein   2011-09-23               1  122.0  \n",
       "480906  Schleswig-Holstein   2011-09-23               0  122.0  \n",
       "\n",
       "[4102 rows x 15 columns]"
      ]
     },
     "execution_count": 75,
     "metadata": {},
     "output_type": "execute_result"
    }
   ],
   "source": [
    "df_train[df_train.age > 121]"
   ]
  },
  {
   "cell_type": "code",
   "execution_count": 76,
   "id": "0187651c",
   "metadata": {},
   "outputs": [],
   "source": [
    "# mengisi data pada atribut age dengan rata-rata berdasarkan atribut solutation\n",
    "df_train['age'].fillna(df_train.groupby(\"salutation\")['age'].transform(\"mean\"), inplace = True)\n",
    "df_train['age'] = round(df_train['age']) # membulatkan data"
   ]
  },
  {
   "cell_type": "markdown",
   "id": "6055f1be",
   "metadata": {},
   "source": [
    "### membuat atribut delivery_time (lama pengiriman)"
   ]
  },
  {
   "cell_type": "code",
   "execution_count": 77,
   "id": "39f1baeb",
   "metadata": {},
   "outputs": [
    {
     "data": {
      "text/plain": [
       "0       2.0\n",
       "1       2.0\n",
       "2       2.0\n",
       "3       NaN\n",
       "4   -7763.0\n",
       "5   -7763.0\n",
       "Name: delivery_time, dtype: float64"
      ]
     },
     "execution_count": 77,
     "metadata": {},
     "output_type": "execute_result"
    }
   ],
   "source": [
    "# Melihat atribut lama pengiriman dengan mengurangi data antara atribut deliveryDate dengan atribut orderDate\n",
    "df_train['delivery_time'] = (df_train['deliveryDate'] - df_train['orderDate']).dt.days\n",
    "df_train['delivery_time'].head(6)"
   ]
  },
  {
   "cell_type": "code",
   "execution_count": 78,
   "id": "c6817e02",
   "metadata": {},
   "outputs": [
    {
     "data": {
      "text/plain": [
       "4660"
      ]
     },
     "execution_count": 78,
     "metadata": {},
     "output_type": "execute_result"
    }
   ],
   "source": [
    "# Melihat jumlah atribut delivery_time yang negatif\n",
    "df_train[df_train['delivery_time'] < 0]['delivery_time'].count()"
   ]
  },
  {
   "cell_type": "code",
   "execution_count": 79,
   "id": "778959d2",
   "metadata": {},
   "outputs": [
    {
     "data": {
      "text/plain": [
       "False    441670\n",
       "True      39419\n",
       "Name: delivery_time, dtype: int64"
      ]
     },
     "execution_count": 79,
     "metadata": {},
     "output_type": "execute_result"
    }
   ],
   "source": [
    "# melihat jumlah data pada atribut delivery_time yang NULL dan tidak NULL\n",
    "df_train['delivery_time'].isna().value_counts()"
   ]
  },
  {
   "cell_type": "code",
   "execution_count": 80,
   "id": "efe1b85d",
   "metadata": {},
   "outputs": [],
   "source": [
    "# value yang negatif diubah menjadi None\n",
    "df_train['delivery_time'] = df_train['delivery_time'].where((df_train['delivery_time'] >= 0), None)"
   ]
  },
  {
   "cell_type": "code",
   "execution_count": 81,
   "id": "7cce0723",
   "metadata": {},
   "outputs": [
    {
     "data": {
      "text/plain": [
       "0    2.0\n",
       "1    2.0\n",
       "2    2.0\n",
       "3    NaN\n",
       "4    NaN\n",
       "5    NaN\n",
       "Name: delivery_time, dtype: float64"
      ]
     },
     "execution_count": 81,
     "metadata": {},
     "output_type": "execute_result"
    }
   ],
   "source": [
    "# Untuk melihat perubahan data\n",
    "# df_train['delivery_time'].isna().value_counts()\n",
    "df_train['delivery_time'].head(6)"
   ]
  },
  {
   "cell_type": "code",
   "execution_count": 82,
   "id": "4926af4a",
   "metadata": {},
   "outputs": [
    {
     "data": {
      "text/plain": [
       "11"
      ]
     },
     "execution_count": 82,
     "metadata": {},
     "output_type": "execute_result"
    }
   ],
   "source": [
    "# mencari rata-rata lama pengiriman\n",
    "mean_delivery_time = round(np.mean(df_train['delivery_time']))\n",
    "mean_delivery_time"
   ]
  },
  {
   "cell_type": "code",
   "execution_count": 83,
   "id": "fd486908",
   "metadata": {},
   "outputs": [
    {
     "data": {
      "text/plain": [
       "0     2.0\n",
       "1     2.0\n",
       "2     2.0\n",
       "3    11.0\n",
       "4    11.0\n",
       "5    11.0\n",
       "Name: delivery_time, dtype: float64"
      ]
     },
     "execution_count": 83,
     "metadata": {},
     "output_type": "execute_result"
    }
   ],
   "source": [
    "# Mengisi data pada atribut delivery_time dengan menggunakan rata-rata lama pengiriman\n",
    "df_train.loc[df_train['delivery_time'].isna(), 'delivery_time'] = mean_delivery_time\n",
    "df_train.delivery_time.head(6)"
   ]
  },
  {
   "cell_type": "markdown",
   "id": "5695dd6d",
   "metadata": {},
   "source": [
    "### Mengelompokkan size menjadi S, M, L, XL, XXL, dst"
   ]
  },
  {
   "cell_type": "code",
   "execution_count": 84,
   "id": "68aa8f5e",
   "metadata": {},
   "outputs": [],
   "source": [
    "# menghapus + pada size\n",
    "df_train[\"size\"] = df_train[\"size\"].replace({'\\+':''},regex=True)\n",
    "# mengubah data string menjadi upper case\n",
    "df_train['size'] = df_train['size'].str.upper()\n",
    "# mengubah representasi dari data yang string ke numerik di atribut size agar mudah ketika mengelompokkan\n",
    "df_train.loc[(df_train['size'] == 'UNSIZED'), 'size'] = \"0\"\n",
    "df_train.loc[(df_train['size'] == 'XS'), 'size'] = \"1\"\n",
    "df_train.loc[(df_train['size'] == 'M'), 'size'] = \"36\"\n",
    "df_train.loc[(df_train['size'] == 'S'), 'size'] = \"32\"\n",
    "df_train.loc[(df_train['size'] == 'L'), 'size'] = \"40\"\n",
    "df_train.loc[(df_train['size'] == 'XL'), 'size'] = \"44\"\n",
    "df_train.loc[(df_train['size'] == 'XXL'), 'size'] = \"46\"\n",
    "df_train.loc[(df_train['size'] == 'XXXL'), 'size'] = \"48\"\n",
    "df_train.loc[(df_train['size'] == 'XXXXL'), 'size'] = \"50\"\n",
    "df_train.loc[(df_train['size'] == 'XXXXXL'), 'size'] = \"54\"\n",
    "# mengubah tipa data size dari object menjadi int\n",
    "df_train['size'] = df_train['size'].astype('int64')"
   ]
  },
  {
   "cell_type": "code",
   "execution_count": 85,
   "id": "b38eac56",
   "metadata": {},
   "outputs": [],
   "source": [
    "# mengelompokkan data pada atribut size\n",
    "# 0 = UNSIZED\n",
    "df_train.loc[(df_train['size'] > 70), 'size'] = 0\n",
    "# 1 = XS\n",
    "df_train.loc[(df_train['size'] >= 29) & (df_train['size'] <= 31), 'size'] = 1\n",
    "# 1 = S\n",
    "df_train.loc[(df_train['size'] >= 2) & (df_train['size'] <= 4), 'size'] = 2\n",
    "df_train.loc[(df_train['size'] >= 32) & (df_train['size'] <= 34), 'size'] = 2\n",
    "# 2 = M\n",
    "df_train.loc[(df_train['size'] >= 5) & (df_train['size'] <= 8), 'size'] = 3\n",
    "df_train.loc[(df_train['size'] >= 35) & (df_train['size'] <= 38), 'size'] = 3\n",
    "# 3 = L\n",
    "df_train.loc[(df_train['size'] >= 9) & (df_train['size'] <= 12), 'size'] = 4\n",
    "df_train.loc[(df_train['size'] >= 39) & (df_train['size'] <= 42), 'size'] = 4\n",
    "# 4 = XL\n",
    "df_train.loc[(df_train['size'] >= 13) & (df_train['size'] <= 15), 'size'] = 5\n",
    "df_train.loc[(df_train['size'] >= 43) & (df_train['size'] <= 45), 'size'] = 5\n",
    "# 5 = XXL\n",
    "df_train.loc[(df_train['size'] >= 16) & (df_train['size'] <= 17), 'size'] = 6\n",
    "df_train.loc[(df_train['size'] >= 46) & (df_train['size'] <= 47), 'size'] = 6\n",
    "# 6 = XXX\n",
    "df_train.loc[(df_train['size'] >= 18) & (df_train['size'] <= 19), 'size'] = 7\n",
    "df_train.loc[(df_train['size'] >= 48) & (df_train['size'] <= 49), 'size'] = 7\n",
    "# 7 = XXXXL\n",
    "df_train.loc[(df_train['size'] >= 20) & (df_train['size'] <= 23), 'size'] = 8\n",
    "df_train.loc[(df_train['size'] >= 50) & (df_train['size'] <= 53), 'size'] = 8\n",
    "# 8 = XXXXXL\n",
    "df_train.loc[(df_train['size'] >= 24) & (df_train['size'] <= 28), 'size'] = 9\n",
    "df_train.loc[(df_train['size'] >= 54) & (df_train['size'] <= 58), 'size'] = 9"
   ]
  },
  {
   "cell_type": "code",
   "execution_count": 86,
   "id": "e63948fa",
   "metadata": {},
   "outputs": [],
   "source": [
    "# mengubah kembali data dari numerik menjadi string\n",
    "df_train.loc[(df_train['size'] == 0), 'size'] = \"UNSIZED\"\n",
    "df_train.loc[(df_train['size'] == 1), 'size'] = \"XS\"\n",
    "df_train.loc[(df_train['size'] == 2), 'size'] = \"S\"\n",
    "df_train.loc[(df_train['size'] == 3), 'size'] = \"M\"\n",
    "df_train.loc[(df_train['size'] == 4), 'size'] = \"L\"\n",
    "df_train.loc[(df_train['size'] == 5), 'size'] = \"XL\"\n",
    "df_train.loc[(df_train['size'] == 6), 'size'] = \"XXL\"\n",
    "df_train.loc[(df_train['size'] == 7), 'size'] = \"XXXL\"\n",
    "df_train.loc[(df_train['size'] == 8), 'size'] = \"XXXXL\"\n",
    "df_train.loc[(df_train['size'] == 9), 'size'] = \"XXXXXL\""
   ]
  },
  {
   "cell_type": "markdown",
   "id": "009ce65a",
   "metadata": {},
   "source": [
    "### Drop atribut"
   ]
  },
  {
   "cell_type": "code",
   "execution_count": 87,
   "id": "f249d798",
   "metadata": {},
   "outputs": [],
   "source": [
    "df_train = df_train.drop(['orderDate', 'dateOfBirth', 'deliveryDate', 'creationDate', 'orderItemID'], axis =1)"
   ]
  },
  {
   "cell_type": "markdown",
   "id": "afb52744",
   "metadata": {},
   "source": [
    "### Mengisi data NaN pada atribut color menjadi None"
   ]
  },
  {
   "cell_type": "code",
   "execution_count": 88,
   "id": "69e86310",
   "metadata": {},
   "outputs": [],
   "source": [
    "df_train.loc[df_train.color.isna(), 'color'] = None"
   ]
  },
  {
   "cell_type": "markdown",
   "id": "3f4dff0b",
   "metadata": {},
   "source": [
    "### Mengubah datatype atribut size, color, state, salutation menjadi category"
   ]
  },
  {
   "cell_type": "code",
   "execution_count": 89,
   "id": "ddd12f00",
   "metadata": {},
   "outputs": [],
   "source": [
    "df_train['size'] = df_train['size'].astype('category')\n",
    "df_train.color = df_train['color'].astype('category')\n",
    "df_train.state = df_train['state'].astype('category')\n",
    "df_train.salutation = df_train['salutation'].astype('category')"
   ]
  },
  {
   "cell_type": "markdown",
   "id": "6336b3c7",
   "metadata": {},
   "source": [
    "## Visualisasi Data"
   ]
  },
  {
   "cell_type": "markdown",
   "id": "2cf74383",
   "metadata": {},
   "source": [
    "### Heatmap ReturnShipment\n",
    "Heatmap dibawah ini menjelaskan hubungan dari berbagai column numerik yang ada pada column \"returnShipment\". Dari gambar tersebut didapatkan bahwa price memiliki korelasi terbesar terhadap returnShipment, namun pada column lain memiliki korelasi yang sangat kecil bahkan negatif."
   ]
  },
  {
   "cell_type": "code",
   "execution_count": 90,
   "id": "93641cb4",
   "metadata": {},
   "outputs": [
    {
     "data": {
      "image/png": "[encoded data removed]",
      "text/plain": [
       "<Figure size 432x288 with 2 Axes>"
      ]
     },
     "metadata": {
      "needs_background": "light"
     },
     "output_type": "display_data"
    }
   ],
   "source": [
    "corr = df_train[[\"returnShipment\",\"delivery_time\",\"age\", \"price\",\"manufacturerID\", \"customerID\", \"itemID\"]].corr()\n",
    "ax = sns.heatmap(corr, annot=True, linewidth=.8, cmap=\"crest\")"
   ]
  },
  {
   "cell_type": "markdown",
   "id": "432c752c",
   "metadata": {},
   "source": [
    "### Countplot Jumlah returnShipment di setiap State\n",
    "Pada Countplot dibawah ini menampilkan mengenai jumlah returnShipment dari setiap state. Dari plot ini juga dapat dilihat state yang memiliki jumlah transaksi terbesar. North Rhine Westphalia memiliki transaksi terbanyak dan para pembeli yang melakukan returnShipment lebih sedikit dari yang tidak melakukannya."
   ]
  },
  {
   "cell_type": "code",
   "execution_count": 91,
   "id": "e5993588",
   "metadata": {},
   "outputs": [
    {
     "data": {
      "text/plain": [
       "<AxesSubplot:xlabel='count', ylabel='state'>"
      ]
     },
     "execution_count": 91,
     "metadata": {},
     "output_type": "execute_result"
    },
    {
     "data": {
      "image/png": "[encoded data removed]",
      "text/plain": [
       "<Figure size 1440x1080 with 1 Axes>"
      ]
     },
     "metadata": {
      "needs_background": "light"
     },
     "output_type": "display_data"
    }
   ],
   "source": [
    "fig, ax = plt.subplots(figsize=(20, 15)) #atur ukuran chart\n",
    "sns.countplot(ax=ax, y=\"state\", hue=\"returnShipment\", data=df_train, orient=\"v\" )"
   ]
  },
  {
   "cell_type": "markdown",
   "id": "27f77b19",
   "metadata": {},
   "source": [
    "### Barplot Price & Size terhadap returnShipment\n",
    "Barplot dibawah ini menunjukan hubungan antara price dan size terhadap returnShipment. Dilihat dari plot ini, barang yang lebih banyak di returnShipment memiliki harga yang lebih tinggi, lalu size barang yang paling banyak di return yakni size L."
   ]
  },
  {
   "cell_type": "code",
   "execution_count": 92,
   "id": "e0d7dc83",
   "metadata": {},
   "outputs": [
    {
     "data": {
      "text/plain": [
       "<AxesSubplot:xlabel='price', ylabel='size'>"
      ]
     },
     "execution_count": 92,
     "metadata": {},
     "output_type": "execute_result"
    },
    {
     "data": {
      "image/png": "[encoded data removed]",
      "text/plain": [
       "<Figure size 432x288 with 1 Axes>"
      ]
     },
     "metadata": {
      "needs_background": "light"
     },
     "output_type": "display_data"
    }
   ],
   "source": [
    "sns.barplot(x='price', y='size', hue ='returnShipment',orient = \"h\", data = df_train)"
   ]
  },
  {
   "cell_type": "markdown",
   "id": "2df76234",
   "metadata": {},
   "source": [
    "### Boxplot\n",
    "Boxplot dibawah ini untuk melihat outlier serta beberapa hubungan atribut dengan atribut prediksinya yaitu atribut returnShipment "
   ]
  },
  {
   "cell_type": "markdown",
   "id": "ff29ac27",
   "metadata": {},
   "source": [
    "#### Boxplot Price dengan returnShipment\n",
    "Pada grafik di bawah, atribut returnShipment dan atribut price memiliki outlier atas yang cukup banyak dari nilai maksimum ataupun rata-rata data dan juga terdapat nilai extreme. Outlier atas pada atribut returnShipment lebih mendominasi dibandingkan atribut price, namun outlier kedua data tersebut memiliki variasi data yang serupa."
   ]
  },
  {
   "cell_type": "code",
   "execution_count": 93,
   "id": "952cd9cf",
   "metadata": {},
   "outputs": [
    {
     "data": {
      "text/plain": [
       "<AxesSubplot:xlabel='returnShipment', ylabel='price'>"
      ]
     },
     "execution_count": 93,
     "metadata": {},
     "output_type": "execute_result"
    },
    {
     "data": {
      "image/png": "[encoded data removed]",
      "text/plain": [
       "<Figure size 432x288 with 1 Axes>"
      ]
     },
     "metadata": {
      "needs_background": "light"
     },
     "output_type": "display_data"
    }
   ],
   "source": [
    "# Boxplot\n",
    "sns.boxplot(x=df_train[\"returnShipment\"], y=df_train[\"price\"])"
   ]
  },
  {
   "cell_type": "code",
   "execution_count": 94,
   "id": "44a36d6a",
   "metadata": {},
   "outputs": [
    {
     "data": {
      "text/plain": [
       "0    4\n",
       "1    2\n",
       "Name: returnShipment, dtype: int64"
      ]
     },
     "execution_count": 94,
     "metadata": {},
     "output_type": "execute_result"
    }
   ],
   "source": [
    "# melihat data yang extreme\n",
    "df_train[df_train.price > 800]['returnShipment'].value_counts()"
   ]
  },
  {
   "cell_type": "markdown",
   "id": "e89e6111",
   "metadata": {},
   "source": [
    "#### Boxplot delivery_time dengan returnShipment\n",
    "Pada grafik di bawah, terdapat outlier atas yang tinggi pada atribut returnShipment dan atribut delivery_time. Pada outiler tersebut juga termasuk nilai extreme di dalamnya.\n",
    "Dapat dilihat bahwa nilai outlier kedua data tersebut cukup jauh dari nilai rata-rata nya. Variasi data pada outlier tersebut juga sangat serupa dari data yang satu ke data yang\n",
    "lainnya sehingga dapat dilihat minim jarak bahkan tidak ada antara nilai outlier."
   ]
  },
  {
   "cell_type": "code",
   "execution_count": 95,
   "id": "7232d1ba",
   "metadata": {},
   "outputs": [
    {
     "data": {
      "text/plain": [
       "<AxesSubplot:xlabel='returnShipment', ylabel='delivery_time'>"
      ]
     },
     "execution_count": 95,
     "metadata": {},
     "output_type": "execute_result"
    },
    {
     "data": {
      "image/png": "[encoded data removed]",
      "text/plain": [
       "<Figure size 432x288 with 1 Axes>"
      ]
     },
     "metadata": {
      "needs_background": "light"
     },
     "output_type": "display_data"
    }
   ],
   "source": [
    "# Boxplot\n",
    "sns.boxplot(x=df_train[\"returnShipment\"], y=df_train[\"delivery_time\"])"
   ]
  },
  {
   "cell_type": "markdown",
   "id": "03c39f08",
   "metadata": {},
   "source": [
    "#### melihat data yang extreme"
   ]
  },
  {
   "cell_type": "code",
   "execution_count": 96,
   "id": "15be5895",
   "metadata": {},
   "outputs": [
    {
     "data": {
      "text/plain": [
       "1    30734\n",
       "0    28788\n",
       "Name: returnShipment, dtype: int64"
      ]
     },
     "execution_count": 96,
     "metadata": {},
     "output_type": "execute_result"
    }
   ],
   "source": [
    "# melihat jumlah data yang atribut delivery_time > 25\n",
    "df_train[df_train.delivery_time > 25]['returnShipment'].value_counts()"
   ]
  },
  {
   "cell_type": "code",
   "execution_count": 97,
   "id": "8d61c8f5",
   "metadata": {},
   "outputs": [
    {
     "data": {
      "text/plain": [
       "0    760\n",
       "1    721\n",
       "Name: returnShipment, dtype: int64"
      ]
     },
     "execution_count": 97,
     "metadata": {},
     "output_type": "execute_result"
    }
   ],
   "source": [
    "# melihat jumlah data yang atribut delivery_time > 100\n",
    "df_train[df_train.delivery_time > 100]['returnShipment'].value_counts()"
   ]
  },
  {
   "cell_type": "code",
   "execution_count": 98,
   "id": "f5b90610",
   "metadata": {},
   "outputs": [
    {
     "data": {
      "text/plain": [
       "0    6\n",
       "1    6\n",
       "Name: returnShipment, dtype: int64"
      ]
     },
     "execution_count": 98,
     "metadata": {},
     "output_type": "execute_result"
    }
   ],
   "source": [
    "# melihat jumlah data yang atribut delivery_time > 150\n",
    "df_train[df_train.delivery_time > 150]['returnShipment'].value_counts()"
   ]
  },
  {
   "cell_type": "markdown",
   "id": "21f9c9c5",
   "metadata": {},
   "source": [
    "#### Boxplot age dengan returnShipment\n",
    "Pada grafik di bawah, terdapat outlier atas dan outlier bawah pada atribut returnShipment dan atribut age. Terlihat outlier pada atribut returnShipment dan atribut age memiliki banyak data extreme. Data extreme pada atribut age lebih didominasi oleh data-data yang serupa, dan nilai rata-rata atribut age pun lebih didominasi oleh nilai quartil pertama."
   ]
  },
  {
   "cell_type": "code",
   "execution_count": 99,
   "id": "5c948096",
   "metadata": {},
   "outputs": [
    {
     "data": {
      "text/plain": [
       "<AxesSubplot:xlabel='returnShipment', ylabel='age'>"
      ]
     },
     "execution_count": 99,
     "metadata": {},
     "output_type": "execute_result"
    },
    {
     "data": {
      "image/png": "[encoded data removed]",
      "text/plain": [
       "<Figure size 432x288 with 1 Axes>"
      ]
     },
     "metadata": {
      "needs_background": "light"
     },
     "output_type": "display_data"
    }
   ],
   "source": [
    "# Boxplot\n",
    "sns.boxplot(x=df_train[\"returnShipment\"], y=df_train[\"age\"])"
   ]
  },
  {
   "cell_type": "code",
   "execution_count": 100,
   "id": "eddc4126",
   "metadata": {},
   "outputs": [
    {
     "data": {
      "text/plain": [
       "0    117\n",
       "1    110\n",
       "Name: returnShipment, dtype: int64"
      ]
     },
     "execution_count": 100,
     "metadata": {},
     "output_type": "execute_result"
    }
   ],
   "source": [
    "# melihat jumlah data yang atribut umurnya < 20\n",
    "df_train[df_train.age < 20]['returnShipment'].value_counts()"
   ]
  },
  {
   "cell_type": "code",
   "execution_count": 101,
   "id": "b7ecf17e",
   "metadata": {},
   "outputs": [
    {
     "data": {
      "text/plain": [
       "0    1\n",
       "Name: returnShipment, dtype: int64"
      ]
     },
     "execution_count": 101,
     "metadata": {},
     "output_type": "execute_result"
    }
   ],
   "source": [
    "# melihat jumlah data yang atribut umurnya < 10\n",
    "df_train[df_train.age < 10]['returnShipment'].value_counts()"
   ]
  },
  {
   "cell_type": "code",
   "execution_count": 102,
   "id": "f9e040d2",
   "metadata": {},
   "outputs": [
    {
     "data": {
      "text/html": [
       "<div>\n",
       "<style scoped>\n",
       "    .dataframe tbody tr th:only-of-type {\n",
       "        vertical-align: middle;\n",
       "    }\n",
       "\n",
       "    .dataframe tbody tr th {\n",
       "        vertical-align: top;\n",
       "    }\n",
       "\n",
       "    .dataframe thead th {\n",
       "        text-align: right;\n",
       "    }\n",
       "</style>\n",
       "<table border=\"1\" class=\"dataframe\">\n",
       "  <thead>\n",
       "    <tr style=\"text-align: right;\">\n",
       "      <th></th>\n",
       "      <th>itemID</th>\n",
       "      <th>size</th>\n",
       "      <th>color</th>\n",
       "      <th>manufacturerID</th>\n",
       "      <th>price</th>\n",
       "      <th>customerID</th>\n",
       "      <th>salutation</th>\n",
       "      <th>state</th>\n",
       "      <th>returnShipment</th>\n",
       "      <th>age</th>\n",
       "      <th>delivery_time</th>\n",
       "    </tr>\n",
       "  </thead>\n",
       "  <tbody>\n",
       "    <tr>\n",
       "      <th>412392</th>\n",
       "      <td>2862</td>\n",
       "      <td>UNSIZED</td>\n",
       "      <td>green</td>\n",
       "      <td>125</td>\n",
       "      <td>0.0</td>\n",
       "      <td>77658</td>\n",
       "      <td>Mrs</td>\n",
       "      <td>Bavaria</td>\n",
       "      <td>0</td>\n",
       "      <td>9.0</td>\n",
       "      <td>25.0</td>\n",
       "    </tr>\n",
       "  </tbody>\n",
       "</table>\n",
       "</div>"
      ],
      "text/plain": [
       "        itemID     size  color  manufacturerID  price  customerID salutation  \\\n",
       "412392    2862  UNSIZED  green             125    0.0       77658        Mrs   \n",
       "\n",
       "          state  returnShipment  age  delivery_time  \n",
       "412392  Bavaria               0  9.0           25.0  "
      ]
     },
     "execution_count": 102,
     "metadata": {},
     "output_type": "execute_result"
    }
   ],
   "source": [
    "# melihat data yang atribut agenya < 10\n",
    "df_train[df_train.age < 10]"
   ]
  },
  {
   "cell_type": "code",
   "execution_count": 103,
   "id": "ccde2fe6",
   "metadata": {},
   "outputs": [
    {
     "data": {
      "text/plain": [
       "0    4075\n",
       "1    3787\n",
       "Name: returnShipment, dtype: int64"
      ]
     },
     "execution_count": 103,
     "metadata": {},
     "output_type": "execute_result"
    }
   ],
   "source": [
    "# melihat jumlah data yang atribut umurnya > 80\n",
    "df_train[df_train.age > 80]['returnShipment'].value_counts()"
   ]
  },
  {
   "cell_type": "code",
   "execution_count": 104,
   "id": "68919721",
   "metadata": {},
   "outputs": [
    {
     "data": {
      "text/plain": [
       "1    2656\n",
       "0    2590\n",
       "Name: returnShipment, dtype: int64"
      ]
     },
     "execution_count": 104,
     "metadata": {},
     "output_type": "execute_result"
    }
   ],
   "source": [
    "# melihat jumlah data yang atribut umurnya > 100\n",
    "df_train[df_train.age > 100]['returnShipment'].value_counts()"
   ]
  },
  {
   "cell_type": "code",
   "execution_count": 105,
   "id": "880f0cc7",
   "metadata": {},
   "outputs": [
    {
     "data": {
      "text/plain": [
       "1    2611\n",
       "0    2532\n",
       "Name: returnShipment, dtype: int64"
      ]
     },
     "execution_count": 105,
     "metadata": {},
     "output_type": "execute_result"
    }
   ],
   "source": [
    "# melihat jumlah data yang atribut umurnya > 120\n",
    "df_train[df_train.age > 120]['returnShipment'].value_counts()"
   ]
  },
  {
   "cell_type": "markdown",
   "id": "88c36307",
   "metadata": {},
   "source": [
    "### Atribut yang datatypenya category diubah menjadi one-hot encoding"
   ]
  },
  {
   "cell_type": "code",
   "execution_count": 106,
   "id": "54b0a345",
   "metadata": {},
   "outputs": [],
   "source": [
    "df_train = pd.get_dummies(data=df_train, columns=['salutation','size','color','state'])"
   ]
  },
  {
   "cell_type": "markdown",
   "id": "f09b7700",
   "metadata": {},
   "source": [
    "### Export"
   ]
  },
  {
   "cell_type": "code",
   "execution_count": 108,
   "id": "87389218",
   "metadata": {},
   "outputs": [],
   "source": [
    "df_train.to_csv('train_dataset1.csv', index = False)"
   ]
  }
 ],
 "metadata": {
  "kernelspec": {
   "display_name": "Python 3 (ipykernel)",
   "language": "python",
   "name": "python3"
  },
  "language_info": {
   "codemirror_mode": {
    "name": "ipython",
    "version": 3
   },
   "file_extension": ".py",
   "mimetype": "text/x-python",
   "name": "python",
   "nbconvert_exporter": "python",
   "pygments_lexer": "ipython3",
   "version": "3.9.12"
  }
 },
 "nbformat": 4,
 "nbformat_minor": 5
}
