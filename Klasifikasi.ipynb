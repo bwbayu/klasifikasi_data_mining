{
 "cells": [
  {
   "cell_type": "markdown",
   "id": "507175f4",
   "metadata": {},
   "source": [
    "## Klasifikasi"
   ]
  },
  {
   "cell_type": "markdown",
   "id": "927bfbee",
   "metadata": {},
   "source": [
    "### Import Library"
   ]
  },
  {
   "cell_type": "code",
   "execution_count": 1,
   "id": "cfdda2fd",
   "metadata": {},
   "outputs": [
    {
     "name": "stderr",
     "output_type": "stream",
     "text": [
      "C:\\Users\\Byebay\\anaconda3\\lib\\site-packages\\xgboost\\compat.py:36: FutureWarning: pandas.Int64Index is deprecated and will be removed from pandas in a future version. Use pandas.Index with the appropriate dtype instead.\n",
      "  from pandas import MultiIndex, Int64Index\n"
     ]
    }
   ],
   "source": [
    "%matplotlib inline\n",
    "import numpy as np\n",
    "import pandas as pd\n",
    "import matplotlib.pyplot as plt\n",
    "import seaborn as sns\n",
    "# \n",
    "from sklearn.model_selection import train_test_split\n",
    "from sklearn.naive_bayes import GaussianNB\n",
    "from sklearn.metrics import classification_report\n",
    "from sklearn.metrics import accuracy_score\n",
    "from sklearn import tree\n",
    "from sklearn.ensemble import RandomForestClassifier\n",
    "import xgboost as xgb\n",
    "from sklearn.metrics import confusion_matrix\n",
    "from sklearn.model_selection import cross_val_score\n",
    "from sklearn.metrics import make_scorer\n",
    "from sklearn import preprocessing\n",
    "from sklearn.decomposition import PCA"
   ]
  },
  {
   "cell_type": "markdown",
   "id": "7aeb2036",
   "metadata": {},
   "source": [
    "### Read File"
   ]
  },
  {
   "cell_type": "code",
   "execution_count": 2,
   "id": "8a9c4ce0",
   "metadata": {},
   "outputs": [
    {
     "data": {
      "text/html": [
       "<div>\n",
       "<style scoped>\n",
       "    .dataframe tbody tr th:only-of-type {\n",
       "        vertical-align: middle;\n",
       "    }\n",
       "\n",
       "    .dataframe tbody tr th {\n",
       "        vertical-align: top;\n",
       "    }\n",
       "\n",
       "    .dataframe thead th {\n",
       "        text-align: right;\n",
       "    }\n",
       "</style>\n",
       "<table border=\"1\" class=\"dataframe\">\n",
       "  <thead>\n",
       "    <tr style=\"text-align: right;\">\n",
       "      <th></th>\n",
       "      <th>itemID</th>\n",
       "      <th>manufacturerID</th>\n",
       "      <th>price</th>\n",
       "      <th>customerID</th>\n",
       "      <th>returnShipment</th>\n",
       "      <th>age</th>\n",
       "      <th>delivery_time</th>\n",
       "      <th>salutation_Company</th>\n",
       "      <th>salutation_Family</th>\n",
       "      <th>salutation_Mr</th>\n",
       "      <th>...</th>\n",
       "      <th>state_Hesse</th>\n",
       "      <th>state_Lower Saxony</th>\n",
       "      <th>state_Mecklenburg-Western Pomerania</th>\n",
       "      <th>state_North Rhine-Westphalia</th>\n",
       "      <th>state_Rhineland-Palatinate</th>\n",
       "      <th>state_Saarland</th>\n",
       "      <th>state_Saxony</th>\n",
       "      <th>state_Saxony-Anhalt</th>\n",
       "      <th>state_Schleswig-Holstein</th>\n",
       "      <th>state_Thuringia</th>\n",
       "    </tr>\n",
       "  </thead>\n",
       "  <tbody>\n",
       "    <tr>\n",
       "      <th>0</th>\n",
       "      <td>186</td>\n",
       "      <td>25</td>\n",
       "      <td>69.90</td>\n",
       "      <td>794</td>\n",
       "      <td>0</td>\n",
       "      <td>57.0</td>\n",
       "      <td>2.0</td>\n",
       "      <td>0</td>\n",
       "      <td>0</td>\n",
       "      <td>0</td>\n",
       "      <td>...</td>\n",
       "      <td>0</td>\n",
       "      <td>0</td>\n",
       "      <td>0</td>\n",
       "      <td>0</td>\n",
       "      <td>0</td>\n",
       "      <td>0</td>\n",
       "      <td>0</td>\n",
       "      <td>0</td>\n",
       "      <td>0</td>\n",
       "      <td>0</td>\n",
       "    </tr>\n",
       "    <tr>\n",
       "      <th>1</th>\n",
       "      <td>71</td>\n",
       "      <td>21</td>\n",
       "      <td>69.95</td>\n",
       "      <td>794</td>\n",
       "      <td>1</td>\n",
       "      <td>57.0</td>\n",
       "      <td>2.0</td>\n",
       "      <td>0</td>\n",
       "      <td>0</td>\n",
       "      <td>0</td>\n",
       "      <td>...</td>\n",
       "      <td>0</td>\n",
       "      <td>0</td>\n",
       "      <td>0</td>\n",
       "      <td>0</td>\n",
       "      <td>0</td>\n",
       "      <td>0</td>\n",
       "      <td>0</td>\n",
       "      <td>0</td>\n",
       "      <td>0</td>\n",
       "      <td>0</td>\n",
       "    </tr>\n",
       "    <tr>\n",
       "      <th>2</th>\n",
       "      <td>71</td>\n",
       "      <td>21</td>\n",
       "      <td>69.95</td>\n",
       "      <td>794</td>\n",
       "      <td>1</td>\n",
       "      <td>57.0</td>\n",
       "      <td>2.0</td>\n",
       "      <td>0</td>\n",
       "      <td>0</td>\n",
       "      <td>0</td>\n",
       "      <td>...</td>\n",
       "      <td>0</td>\n",
       "      <td>0</td>\n",
       "      <td>0</td>\n",
       "      <td>0</td>\n",
       "      <td>0</td>\n",
       "      <td>0</td>\n",
       "      <td>0</td>\n",
       "      <td>0</td>\n",
       "      <td>0</td>\n",
       "      <td>0</td>\n",
       "    </tr>\n",
       "    <tr>\n",
       "      <th>3</th>\n",
       "      <td>22</td>\n",
       "      <td>14</td>\n",
       "      <td>39.90</td>\n",
       "      <td>808</td>\n",
       "      <td>0</td>\n",
       "      <td>63.0</td>\n",
       "      <td>11.0</td>\n",
       "      <td>0</td>\n",
       "      <td>0</td>\n",
       "      <td>0</td>\n",
       "      <td>...</td>\n",
       "      <td>0</td>\n",
       "      <td>0</td>\n",
       "      <td>0</td>\n",
       "      <td>0</td>\n",
       "      <td>0</td>\n",
       "      <td>0</td>\n",
       "      <td>1</td>\n",
       "      <td>0</td>\n",
       "      <td>0</td>\n",
       "      <td>0</td>\n",
       "    </tr>\n",
       "    <tr>\n",
       "      <th>4</th>\n",
       "      <td>151</td>\n",
       "      <td>53</td>\n",
       "      <td>29.90</td>\n",
       "      <td>825</td>\n",
       "      <td>0</td>\n",
       "      <td>58.0</td>\n",
       "      <td>11.0</td>\n",
       "      <td>0</td>\n",
       "      <td>0</td>\n",
       "      <td>0</td>\n",
       "      <td>...</td>\n",
       "      <td>0</td>\n",
       "      <td>0</td>\n",
       "      <td>0</td>\n",
       "      <td>0</td>\n",
       "      <td>1</td>\n",
       "      <td>0</td>\n",
       "      <td>0</td>\n",
       "      <td>0</td>\n",
       "      <td>0</td>\n",
       "      <td>0</td>\n",
       "    </tr>\n",
       "  </tbody>\n",
       "</table>\n",
       "<p>5 rows × 49 columns</p>\n",
       "</div>"
      ],
      "text/plain": [
       "   itemID  manufacturerID  price  customerID  returnShipment   age  \\\n",
       "0     186              25  69.90         794               0  57.0   \n",
       "1      71              21  69.95         794               1  57.0   \n",
       "2      71              21  69.95         794               1  57.0   \n",
       "3      22              14  39.90         808               0  63.0   \n",
       "4     151              53  29.90         825               0  58.0   \n",
       "\n",
       "   delivery_time  salutation_Company  salutation_Family  salutation_Mr  ...  \\\n",
       "0            2.0                   0                  0              0  ...   \n",
       "1            2.0                   0                  0              0  ...   \n",
       "2            2.0                   0                  0              0  ...   \n",
       "3           11.0                   0                  0              0  ...   \n",
       "4           11.0                   0                  0              0  ...   \n",
       "\n",
       "   state_Hesse  state_Lower Saxony  state_Mecklenburg-Western Pomerania  \\\n",
       "0            0                   0                                    0   \n",
       "1            0                   0                                    0   \n",
       "2            0                   0                                    0   \n",
       "3            0                   0                                    0   \n",
       "4            0                   0                                    0   \n",
       "\n",
       "   state_North Rhine-Westphalia  state_Rhineland-Palatinate  state_Saarland  \\\n",
       "0                             0                           0               0   \n",
       "1                             0                           0               0   \n",
       "2                             0                           0               0   \n",
       "3                             0                           0               0   \n",
       "4                             0                           1               0   \n",
       "\n",
       "   state_Saxony  state_Saxony-Anhalt  state_Schleswig-Holstein  \\\n",
       "0             0                    0                         0   \n",
       "1             0                    0                         0   \n",
       "2             0                    0                         0   \n",
       "3             1                    0                         0   \n",
       "4             0                    0                         0   \n",
       "\n",
       "   state_Thuringia  \n",
       "0                0  \n",
       "1                0  \n",
       "2                0  \n",
       "3                0  \n",
       "4                0  \n",
       "\n",
       "[5 rows x 49 columns]"
      ]
     },
     "execution_count": 2,
     "metadata": {},
     "output_type": "execute_result"
    }
   ],
   "source": [
    "df = pd.read_csv(\"C:\\\\Users\\\\Byebay\\\\data mining\\\\Klasifikasi\\\\train_dataset1.csv\")\n",
    "df.head(5)"
   ]
  },
  {
   "cell_type": "code",
   "execution_count": 3,
   "id": "e0a2c6f0",
   "metadata": {},
   "outputs": [
    {
     "name": "stdout",
     "output_type": "stream",
     "text": [
      "<class 'pandas.core.frame.DataFrame'>\n",
      "RangeIndex: 481089 entries, 0 to 481088\n",
      "Data columns (total 49 columns):\n",
      " #   Column                               Non-Null Count   Dtype  \n",
      "---  ------                               --------------   -----  \n",
      " 0   itemID                               481089 non-null  int64  \n",
      " 1   manufacturerID                       481089 non-null  int64  \n",
      " 2   price                                481089 non-null  float64\n",
      " 3   customerID                           481089 non-null  int64  \n",
      " 4   returnShipment                       481089 non-null  int64  \n",
      " 5   age                                  481089 non-null  float64\n",
      " 6   delivery_time                        481089 non-null  float64\n",
      " 7   salutation_Company                   481089 non-null  int64  \n",
      " 8   salutation_Family                    481089 non-null  int64  \n",
      " 9   salutation_Mr                        481089 non-null  int64  \n",
      " 10  salutation_Mrs                       481089 non-null  int64  \n",
      " 11  salutation_not reported              481089 non-null  int64  \n",
      " 12  size_L                               481089 non-null  int64  \n",
      " 13  size_M                               481089 non-null  int64  \n",
      " 14  size_S                               481089 non-null  int64  \n",
      " 15  size_UNSIZED                         481089 non-null  int64  \n",
      " 16  size_XL                              481089 non-null  int64  \n",
      " 17  size_XS                              481089 non-null  int64  \n",
      " 18  size_XXL                             481089 non-null  int64  \n",
      " 19  size_XXXL                            481089 non-null  int64  \n",
      " 20  size_XXXXL                           481089 non-null  int64  \n",
      " 21  size_XXXXXL                          481089 non-null  int64  \n",
      " 22  color_black                          481089 non-null  int64  \n",
      " 23  color_blue                           481089 non-null  int64  \n",
      " 24  color_brown                          481089 non-null  int64  \n",
      " 25  color_green                          481089 non-null  int64  \n",
      " 26  color_grey                           481089 non-null  int64  \n",
      " 27  color_orange                         481089 non-null  int64  \n",
      " 28  color_pink                           481089 non-null  int64  \n",
      " 29  color_purple                         481089 non-null  int64  \n",
      " 30  color_red                            481089 non-null  int64  \n",
      " 31  color_white                          481089 non-null  int64  \n",
      " 32  color_yellow                         481089 non-null  int64  \n",
      " 33  state_Baden-Wuerttemberg             481089 non-null  int64  \n",
      " 34  state_Bavaria                        481089 non-null  int64  \n",
      " 35  state_Berlin                         481089 non-null  int64  \n",
      " 36  state_Brandenburg                    481089 non-null  int64  \n",
      " 37  state_Bremen                         481089 non-null  int64  \n",
      " 38  state_Hamburg                        481089 non-null  int64  \n",
      " 39  state_Hesse                          481089 non-null  int64  \n",
      " 40  state_Lower Saxony                   481089 non-null  int64  \n",
      " 41  state_Mecklenburg-Western Pomerania  481089 non-null  int64  \n",
      " 42  state_North Rhine-Westphalia         481089 non-null  int64  \n",
      " 43  state_Rhineland-Palatinate           481089 non-null  int64  \n",
      " 44  state_Saarland                       481089 non-null  int64  \n",
      " 45  state_Saxony                         481089 non-null  int64  \n",
      " 46  state_Saxony-Anhalt                  481089 non-null  int64  \n",
      " 47  state_Schleswig-Holstein             481089 non-null  int64  \n",
      " 48  state_Thuringia                      481089 non-null  int64  \n",
      "dtypes: float64(3), int64(46)\n",
      "memory usage: 179.9 MB\n"
     ]
    }
   ],
   "source": [
    "df.info()"
   ]
  },
  {
   "cell_type": "markdown",
   "id": "77de3456",
   "metadata": {},
   "source": [
    "### Kelas Target"
   ]
  },
  {
   "cell_type": "code",
   "execution_count": 4,
   "id": "09a19805",
   "metadata": {},
   "outputs": [],
   "source": [
    "from sklearn import preprocessing\n",
    "le = preprocessing.LabelEncoder()\n",
    "le.fit(df.returnShipment)\n",
    "Y = le.transform(df.returnShipment) "
   ]
  },
  {
   "cell_type": "code",
   "execution_count": 5,
   "id": "6f43f126",
   "metadata": {},
   "outputs": [
    {
     "data": {
      "text/plain": [
       "[0, 1]"
      ]
     },
     "execution_count": 5,
     "metadata": {},
     "output_type": "execute_result"
    }
   ],
   "source": [
    "list(le.classes_)"
   ]
  },
  {
   "cell_type": "code",
   "execution_count": 6,
   "id": "50fef695",
   "metadata": {},
   "outputs": [],
   "source": [
    "X = df.drop(\"returnShipment\",axis=1)"
   ]
  },
  {
   "cell_type": "markdown",
   "id": "d1882439",
   "metadata": {},
   "source": [
    "### Split Data"
   ]
  },
  {
   "cell_type": "code",
   "execution_count": 7,
   "id": "72546788",
   "metadata": {},
   "outputs": [],
   "source": [
    "from sklearn.model_selection import train_test_split\n",
    "X_train,X_test,Y_train,Y_test=train_test_split(X,Y,test_size=0.2,random_state=None)"
   ]
  },
  {
   "cell_type": "markdown",
   "id": "badcb079",
   "metadata": {},
   "source": [
    "### Metode Naive Bayes"
   ]
  },
  {
   "cell_type": "code",
   "execution_count": 9,
   "id": "ccdce9ba",
   "metadata": {},
   "outputs": [
    {
     "name": "stdout",
     "output_type": "stream",
     "text": [
      "Akurasi 0.5553222889688\n",
      "              precision    recall  f1-score   support\n",
      "\n",
      "           0       0.56      0.69      0.62     49865\n",
      "           1       0.55      0.41      0.47     46353\n",
      "\n",
      "    accuracy                           0.56     96218\n",
      "   macro avg       0.55      0.55      0.54     96218\n",
      "weighted avg       0.55      0.56      0.55     96218\n",
      "\n"
     ]
    }
   ],
   "source": [
    "clf = GaussianNB()\n",
    "clf.fit(X_train, Y_train)\n",
    "Y_pred = clf.predict(X_test)\n",
    "acc = accuracy_score(Y_test, Y_pred)\n",
    "print(\"Akurasi {}\".format(acc))\n",
    "print(classification_report(Y_test, Y_pred))"
   ]
  },
  {
   "cell_type": "markdown",
   "id": "8197d4cb",
   "metadata": {},
   "source": [
    "### Metode Decision Tree"
   ]
  },
  {
   "cell_type": "code",
   "execution_count": 10,
   "id": "1d452be0",
   "metadata": {},
   "outputs": [
    {
     "name": "stdout",
     "output_type": "stream",
     "text": [
      "Akurasi 0.6017273275270739\n",
      "              precision    recall  f1-score   support\n",
      "\n",
      "           0       0.62      0.61      0.61     49865\n",
      "           1       0.59      0.59      0.59     46353\n",
      "\n",
      "    accuracy                           0.60     96218\n",
      "   macro avg       0.60      0.60      0.60     96218\n",
      "weighted avg       0.60      0.60      0.60     96218\n",
      "\n"
     ]
    }
   ],
   "source": [
    "clf = tree.DecisionTreeClassifier()\n",
    "clf.fit(X_train, Y_train)\n",
    "Y_pred = clf.predict(X_test)\n",
    "acc = accuracy_score(Y_test, Y_pred)\n",
    "print(\"Akurasi {}\".format(acc))\n",
    "print(classification_report(Y_test, Y_pred))"
   ]
  },
  {
   "cell_type": "markdown",
   "id": "61d2c375",
   "metadata": {},
   "source": [
    "### Metode Random Forest"
   ]
  },
  {
   "cell_type": "code",
   "execution_count": 11,
   "id": "40b8c6b7",
   "metadata": {},
   "outputs": [
    {
     "name": "stdout",
     "output_type": "stream",
     "text": [
      "Akurasi 0.6413560872186077\n",
      "              precision    recall  f1-score   support\n",
      "\n",
      "           0       0.67      0.61      0.64     49865\n",
      "           1       0.62      0.67      0.64     46353\n",
      "\n",
      "    accuracy                           0.64     96218\n",
      "   macro avg       0.64      0.64      0.64     96218\n",
      "weighted avg       0.64      0.64      0.64     96218\n",
      "\n"
     ]
    }
   ],
   "source": [
    "clf = RandomForestClassifier(n_estimators=100, random_state=123)\n",
    "clf.fit(X_train, Y_train)\n",
    "Y_pred = clf.predict(X_test)\n",
    "acc = accuracy_score(Y_test, Y_pred)\n",
    "print(\"Akurasi {}\".format(acc))\n",
    "print(classification_report(Y_test, Y_pred))"
   ]
  },
  {
   "cell_type": "markdown",
   "id": "16821ea5",
   "metadata": {},
   "source": [
    "### Importance Features"
   ]
  },
  {
   "cell_type": "code",
   "execution_count": 12,
   "id": "cd0fddb6",
   "metadata": {},
   "outputs": [
    {
     "name": "stdout",
     "output_type": "stream",
     "text": [
      "                                     importance\n",
      "customerID                             0.168447\n",
      "delivery_time                          0.158564\n",
      "itemID                                 0.128087\n",
      "age                                    0.121302\n",
      "price                                  0.106207\n",
      "manufacturerID                         0.080339\n",
      "state_North Rhine-Westphalia           0.014378\n",
      "state_Bavaria                          0.012520\n",
      "state_Lower Saxony                     0.012401\n",
      "state_Baden-Wuerttemberg               0.012040\n",
      "size_M                                 0.009836\n",
      "color_blue                             0.009799\n",
      "color_grey                             0.009424\n",
      "state_Hesse                            0.009423\n",
      "size_XL                                0.009043\n",
      "size_L                                 0.008930\n",
      "color_black                            0.008754\n",
      "color_brown                            0.007891\n",
      "color_red                              0.007602\n",
      "state_Rhineland-Palatinate             0.007529\n",
      "state_Schleswig-Holstein               0.007474\n",
      "size_XXL                               0.007282\n",
      "size_UNSIZED                           0.007240\n",
      "color_green                            0.006711\n",
      "state_Berlin                           0.006483\n",
      "size_S                                 0.005781\n",
      "color_purple                           0.005568\n",
      "state_Saxony                           0.005261\n",
      "state_Brandenburg                      0.004549\n",
      "state_Hamburg                          0.004491\n",
      "color_white                            0.004423\n",
      "state_Mecklenburg-Western Pomerania    0.003550\n",
      "state_Thuringia                        0.003497\n",
      "state_Bremen                           0.002972\n",
      "state_Saxony-Anhalt                    0.002797\n",
      "color_pink                             0.002641\n",
      "color_yellow                           0.002539\n",
      "state_Saarland                         0.002493\n",
      "salutation_Mrs                         0.002484\n",
      "salutation_Mr                          0.002143\n",
      "color_orange                           0.002057\n",
      "size_XXXL                              0.001487\n",
      "size_XXXXL                             0.001061\n",
      "size_XXXXXL                            0.000762\n",
      "salutation_Family                      0.000679\n",
      "size_XS                                0.000656\n",
      "salutation_Company                     0.000219\n",
      "salutation_not reported                0.000182\n"
     ]
    }
   ],
   "source": [
    "feature_importances = pd.DataFrame(clf.feature_importances_,index = X_train.columns, columns=['importance']).sort_values('importance',ascending=False)\n",
    "\n",
    "print(feature_importances)"
   ]
  },
  {
   "cell_type": "code",
   "execution_count": 13,
   "id": "c6e1a8fc",
   "metadata": {},
   "outputs": [],
   "source": [
    "#simpan nama kolom untuk keperluan prediksi nanti \n",
    "import pickle\n",
    "with open('C:\\\\Users\\\\Byebay\\\\data mining\\\\Klasifikasi\\\\hasil1.pickle', 'wb') as fp:\n",
    "    pickle.dump(X_train.columns, fp)"
   ]
  },
  {
   "cell_type": "code",
   "execution_count": 14,
   "id": "1313ace1",
   "metadata": {},
   "outputs": [
    {
     "data": {
      "text/plain": [
       "['C:\\\\Users\\\\Byebay\\\\data mining\\\\Klasifikasi\\\\hasil1.joblib']"
      ]
     },
     "execution_count": 14,
     "metadata": {},
     "output_type": "execute_result"
    }
   ],
   "source": [
    "import joblib\n",
    "joblib.dump(clf, \"C:\\\\Users\\\\Byebay\\\\data mining\\\\Klasifikasi\\\\hasil1.joblib\")"
   ]
  }
 ],
 "metadata": {
  "kernelspec": {
   "display_name": "Python 3 (ipykernel)",
   "language": "python",
   "name": "python3"
  },
  "language_info": {
   "codemirror_mode": {
    "name": "ipython",
    "version": 3
   },
   "file_extension": ".py",
   "mimetype": "text/x-python",
   "name": "python",
   "nbconvert_exporter": "python",
   "pygments_lexer": "ipython3",
   "version": "3.9.12"
  }
 },
 "nbformat": 4,
 "nbformat_minor": 5
}
